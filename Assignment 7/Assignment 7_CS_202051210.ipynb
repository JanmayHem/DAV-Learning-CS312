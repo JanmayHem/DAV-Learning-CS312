{
 "cells": [
  {
   "cell_type": "code",
   "execution_count": 1,
   "id": "5c88faff",
   "metadata": {},
   "outputs": [],
   "source": [
    "import pandas as pd\n",
    "import numpy as np\n",
    "from sklearn.model_selection import StratifiedShuffleSplit\n",
    "import seaborn as sns"
   ]
  },
  {
   "cell_type": "code",
   "execution_count": 2,
   "id": "e4550a8c",
   "metadata": {},
   "outputs": [
    {
     "name": "stdout",
     "output_type": "stream",
     "text": [
      "Population mean of height (Whole Data): 66.368\n",
      "Population mean of weight (Whole Data): 161.44\n"
     ]
    }
   ],
   "source": [
    "df = pd.read_csv(\"weight-height.csv\")\n",
    "\n",
    "height_mean = round(df[\"Height\"].mean(),3)\n",
    "weight_mean = round(df[\"Weight\"].mean(),3)\n",
    "\n",
    "print(\"Population mean of height (Whole Data):\",height_mean)\n",
    "print(\"Population mean of weight (Whole Data):\",weight_mean)"
   ]
  },
  {
   "cell_type": "markdown",
   "id": "a7084a1f",
   "metadata": {},
   "source": [
    "#### 1) Perform Random Sampling by choosing 1000 samples from data. Compute the sample mean and population mean (from whole data) and then compute the error between both mean."
   ]
  },
  {
   "cell_type": "code",
   "execution_count": 3,
   "id": "b2abae2e",
   "metadata": {},
   "outputs": [
    {
     "name": "stdout",
     "output_type": "stream",
     "text": [
      "Population mean of height (Sample1 Data): 66.358\n",
      "Population mean of weight (Sample1 Data): 160.61\n"
     ]
    }
   ],
   "source": [
    "sample1 = df.sample(n=1000).sort_index()\n",
    "sample1_height_mean = round(sample1[\"Height\"].mean(),3)\n",
    "sample1_weight_mean = round(sample1[\"Weight\"].mean(),3)\n",
    "\n",
    "print(\"Population mean of height (Sample1 Data):\",sample1_height_mean)\n",
    "print(\"Population mean of weight (Sample1 Data):\",sample1_weight_mean)"
   ]
  },
  {
   "cell_type": "code",
   "execution_count": 4,
   "id": "06486baa",
   "metadata": {},
   "outputs": [
    {
     "name": "stdout",
     "output_type": "stream",
     "text": [
      "Error in height (Random Sampling): 0.01\n",
      "Error in weight (Random Sampling): 0.83\n"
     ]
    }
   ],
   "source": [
    "Error1_height = abs(round(sample1_height_mean-height_mean,3))\n",
    "Error1_weight = abs(round(sample1_weight_mean-weight_mean,3))\n",
    "print(\"Error in height (Random Sampling):\",Error1_height)\n",
    "print(\"Error in weight (Random Sampling):\",Error1_weight)"
   ]
  },
  {
   "cell_type": "markdown",
   "id": "1b535276",
   "metadata": {},
   "source": [
    "#### 2) Perform Systematic Sampling by choosing 1000 samples from data. Compute the sample mean and population mean (from whole data) and then compute the error between both mean."
   ]
  },
  {
   "cell_type": "code",
   "execution_count": 5,
   "id": "84f2d9ed",
   "metadata": {},
   "outputs": [
    {
     "name": "stdout",
     "output_type": "stream",
     "text": [
      "Population mean of height (Sample2 Data): 66.426\n",
      "Population mean of weight (Sample2 Data): 161.706\n"
     ]
    }
   ],
   "source": [
    "def systematic_sampling(df, step): \n",
    "    indexes = np.arange(0,len(df),step=step)\n",
    "    systematic_sample = df.iloc[indexes]\n",
    "    return systematic_sample\n",
    "\n",
    "sample2 = systematic_sampling(df, 10)\n",
    "sample2_height_mean = round(sample2[\"Height\"].mean(),3)\n",
    "sample2_weight_mean = round(sample2[\"Weight\"].mean(),3)\n",
    "\n",
    "print(\"Population mean of height (Sample2 Data):\",sample2_height_mean)\n",
    "print(\"Population mean of weight (Sample2 Data):\",sample2_weight_mean)"
   ]
  },
  {
   "cell_type": "code",
   "execution_count": 6,
   "id": "075dc1be",
   "metadata": {},
   "outputs": [
    {
     "name": "stdout",
     "output_type": "stream",
     "text": [
      "Error in height (Random Sampling): 0.058\n",
      "Error in weight (Random Sampling): 0.266\n"
     ]
    }
   ],
   "source": [
    "Error2_height = abs(round(sample2_height_mean-height_mean,3))\n",
    "Error2_weight = abs(round(sample2_weight_mean-weight_mean,3))\n",
    "print(\"Error in height (Random Sampling):\",Error2_height)\n",
    "print(\"Error in weight (Random Sampling):\",Error2_weight)"
   ]
  },
  {
   "cell_type": "markdown",
   "id": "fb77b854",
   "metadata": {},
   "source": [
    "#### 3) Perform Stratified Sampling by choosing 1000 samples from data. Compute the sample mean and population mean (from whole data) and then compute the error between both mean."
   ]
  },
  {
   "cell_type": "code",
   "execution_count": 7,
   "id": "bbe3e368",
   "metadata": {},
   "outputs": [
    {
     "name": "stdout",
     "output_type": "stream",
     "text": [
      "Population mean of height (Sample3 Data): 66.498\n",
      "Population mean of weight (Sample3 Data): 162.017\n"
     ]
    }
   ],
   "source": [
    "split = StratifiedShuffleSplit(n_splits=1, test_size=1000)\n",
    "\n",
    "for x, y in split.split(df, df['Gender']):\n",
    "    sample3 = df.iloc[y]\n",
    "\n",
    "sample3_height_mean = round(sample3[\"Height\"].mean(),3)\n",
    "sample3_weight_mean = round(sample3[\"Weight\"].mean(),3)\n",
    "\n",
    "print(\"Population mean of height (Sample3 Data):\",sample3_height_mean)\n",
    "print(\"Population mean of weight (Sample3 Data):\",sample3_weight_mean)"
   ]
  },
  {
   "cell_type": "code",
   "execution_count": 8,
   "id": "a1f0c215",
   "metadata": {},
   "outputs": [
    {
     "name": "stdout",
     "output_type": "stream",
     "text": [
      "Error in height (Random Sampling): 0.13\n",
      "Error in weight (Random Sampling): 0.577\n"
     ]
    }
   ],
   "source": [
    "Error3_height = abs(round(sample3_height_mean-height_mean,3))\n",
    "Error3_weight = abs(round(sample3_weight_mean-weight_mean,3))\n",
    "print(\"Error in height (Random Sampling):\",Error3_height)\n",
    "print(\"Error in weight (Random Sampling):\",Error3_weight)"
   ]
  }
 ],
 "metadata": {
  "kernelspec": {
   "display_name": "myenv",
   "language": "python",
   "name": "myenv"
  },
  "language_info": {
   "codemirror_mode": {
    "name": "ipython",
    "version": 3
   },
   "file_extension": ".py",
   "mimetype": "text/x-python",
   "name": "python",
   "nbconvert_exporter": "python",
   "pygments_lexer": "ipython3",
   "version": "3.10.6"
  }
 },
 "nbformat": 4,
 "nbformat_minor": 5
}
