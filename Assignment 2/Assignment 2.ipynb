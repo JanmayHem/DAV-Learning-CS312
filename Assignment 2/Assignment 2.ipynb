{
 "cells": [
  {
   "cell_type": "code",
   "execution_count": null,
   "id": "e4b8883d",
   "metadata": {},
   "outputs": [],
   "source": [
    "import pandas as pd\n",
    "import seaborn as sns\n",
    "import numpy as np\n",
    "import matplotlib.pyplot as plt\n",
    "from statsmodels.graphics.gofplots import qqplot\n",
    "\n",
    "pd.options.mode.chained_assignment = None"
   ]
  },
  {
   "cell_type": "markdown",
   "id": "31fda41f",
   "metadata": {},
   "source": [
    "## Patient Attendance Data"
   ]
  },
  {
   "cell_type": "code",
   "execution_count": null,
   "id": "0937fc06",
   "metadata": {},
   "outputs": [],
   "source": [
    "df1 = pd.read_csv(\"JK-Allopathic-Outpatient_attendance-May-2019.csv\")\n",
    "df1.head()"
   ]
  },
  {
   "cell_type": "code",
   "execution_count": null,
   "id": "3e0362f8",
   "metadata": {},
   "outputs": [],
   "source": [
    "'''\n",
    "1. Compute total patient attendance for all district for all four range group and plot the bar\n",
    "diagram. Set the bar plot parameters for better visualization.\n",
    "'''\n",
    "\n",
    "df_group1 = df1.groupby(by=\"District\")[[\"No. of facilities by performance - 1 to 100\", \"No. of facilities by performance - 101 to 500\", \"No. of facilities by performance - 501 to 1000\", \"No. of facilities by performance - >1000\"]].sum()\n",
    "df_group1.plot(kind='barh', figsize=(16,20))"
   ]
  },
  {
   "cell_type": "code",
   "execution_count": null,
   "id": "039ae2c1",
   "metadata": {},
   "outputs": [],
   "source": [
    "'''\n",
    "2. Compute total patient attendance for all district for each Facility Type (DH, CHC and SC) for all\n",
    "four range groups and plot the staked bar diagram of three. Set the bar plot parameters for\n",
    "better visualization.\n",
    "'''\n",
    "\n",
    "cols = ['District', 'Facility Type', 'Total No. of Facilities #']\n",
    "df_group2 = df1[cols]\n",
    "df_group2 = df_group2.pivot_table(index='District', columns='Facility Type', values='Total No. of Facilities #')\n",
    "df_group2.plot(kind='bar', stacked=True, figsize=(16,9))"
   ]
  },
  {
   "cell_type": "code",
   "execution_count": null,
   "id": "d1ea8543",
   "metadata": {},
   "outputs": [],
   "source": [
    "'''\n",
    "3. Plot group bar plot for Performance - Overall Average of different Facility Type (DH, CHC and\n",
    "SC) of Anantnag, Jammu, Poonch, Reasi and Udhampur.\n",
    "'''\n",
    "\n",
    "df_group3 = df1.pivot_table('Performance - Overall Average **', index='District', columns='Facility Type')\n",
    "df_group3 = df_group3.T[['Anantnag', 'Jammu', 'Poonch', 'Reasi','Udhampur']]\n",
    "df_group3.plot(kind='bar', figsize=(16,9))"
   ]
  },
  {
   "cell_type": "code",
   "execution_count": null,
   "id": "e6c193ec",
   "metadata": {},
   "outputs": [],
   "source": [
    "'''\n",
    "4. Present dot plot for Performance - Maximum of any 20 different district. Performance - Maxi\n",
    "mum for different Facility Type should be combined appropriately using a aggregation function\n",
    "for each district.\n",
    "'''\n",
    "\n",
    "df_group4 = df1.groupby(['District']).agg(Max = ('Performance - Maximum', 'max'))\n",
    "df_group4 = df_group4.iloc[:20]\n",
    "df_group4 = df_group4.reset_index()\n",
    "fig, ax = plt.subplots(figsize=(16,9))\n",
    "ax=sns.scatterplot(data=df_group4, x='District', y='Max');\n",
    "ax.set_xticklabels(labels=df_group4['District'], rotation=30);"
   ]
  },
  {
   "cell_type": "markdown",
   "id": "7b89a5e8",
   "metadata": {},
   "source": [
    "## Fifa Player Profile"
   ]
  },
  {
   "cell_type": "code",
   "execution_count": null,
   "id": "1d5eb6c3",
   "metadata": {},
   "outputs": [],
   "source": [
    "df2 = pd.read_csv(\"Fifa_player_football_data.csv\")\n",
    "df2.set_index(['ID'])"
   ]
  },
  {
   "cell_type": "code",
   "execution_count": null,
   "id": "492b1693",
   "metadata": {},
   "outputs": [],
   "source": [
    "'''\n",
    "1. Present Age of various football players as histogram and kernel density plots. Set appropriate\n",
    "parameters of the plot.\n",
    "'''\n",
    "\n",
    "df2_group1 = df2[[\"ID\", \"Name\", \"Age\"]]\n",
    "sns.histplot(data=df2_group1, x=\"Age\", binwidth=1)"
   ]
  },
  {
   "cell_type": "code",
   "execution_count": null,
   "id": "abd3303b",
   "metadata": {},
   "outputs": [],
   "source": [
    "sns.histplot(data=df2_group1, x=\"Age\", binwidth=1, kde=True, color='y')"
   ]
  },
  {
   "cell_type": "code",
   "execution_count": null,
   "id": "66fa4800",
   "metadata": {},
   "outputs": [],
   "source": [
    "'''\n",
    "2. Present Age of various Football players as Kernel Density plots for each of FC Barcelona,\n",
    "Chelsea, Juventus and Real Madrid Clubs. Set appropriate parameters of the plot.\n",
    "'''\n",
    "\n",
    "df2_group2 = df2.loc[df2['Club'].isin(['FC Barcelona','Chelsea','Juventus','Real Madrid'])]\n",
    "plt.figure(figsize=(16,9))\n",
    "sns.kdeplot(data=df2_group2, x=\"Age\",hue=\"Club\");"
   ]
  },
  {
   "cell_type": "code",
   "execution_count": null,
   "id": "c353e8f2",
   "metadata": {},
   "outputs": [],
   "source": [
    "'''\n",
    "3. Plot Value of players as Stacked Histogram Preferred Foot wise (right and left).\n",
    "'''\n",
    "\n",
    "def change_val(row):\n",
    "    value = row['Value'][1:]\n",
    "    if 'K' in value:\n",
    "        return float(value.replace('K',''))*1000\n",
    "    if 'M' in value:\n",
    "        return float(value.replace('M',''))*1000000\n",
    "    return float(value)\n",
    "df2_group3 = df2[['Value', 'Preferred Foot']]\n",
    "df2_group3.loc[:, 'Value']=df2_group3.apply(change_val, axis=1)\n",
    "bins=np.logspace(0, np.log10(df2_group3['Value'].max()), 70)\n",
    "plt.figure(figsize=(16,9))\n",
    "sns.histplot(data=df2_group3, x='Value', stat='count', hue='Preferred Foot', multiple='stack', bins=bins)\n",
    "plt.xscale('log')"
   ]
  },
  {
   "cell_type": "code",
   "execution_count": null,
   "id": "a8178126",
   "metadata": {},
   "outputs": [],
   "source": [
    "'''\n",
    "4. Check distribution of International Reputation using Q-Q plot.\n",
    "'''\n",
    "\n",
    "df2_group4 = df2['International Reputation']\n",
    "plt.figure(figsize=(12,9))\n",
    "ax = plt.gca()\n",
    "qqplot(df2_group4,line='s', ax=ax)\n",
    "plt.show()"
   ]
  }
 ],
 "metadata": {
  "kernelspec": {
   "display_name": "Python 3 (ipykernel)",
   "language": "python",
   "name": "python3"
  },
  "language_info": {
   "codemirror_mode": {
    "name": "ipython",
    "version": 3
   },
   "file_extension": ".py",
   "mimetype": "text/x-python",
   "name": "python",
   "nbconvert_exporter": "python",
   "pygments_lexer": "ipython3",
   "version": "3.9.10"
  }
 },
 "nbformat": 4,
 "nbformat_minor": 5
}
