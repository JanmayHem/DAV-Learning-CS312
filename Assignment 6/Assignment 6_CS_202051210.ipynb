{
 "cells": [
  {
   "cell_type": "code",
   "execution_count": 1,
   "id": "205d0624",
   "metadata": {},
   "outputs": [],
   "source": [
    "'''\n",
    "# CS312 - Data Analytics and Visualization\n",
    "# Janmay Joshi\n",
    "# 202051210\n",
    "'''\n",
    "\n",
    "# Importing libraries\n",
    "import pandas as pd\n",
    "import matplotlib.pyplot as plt\n",
    "import numpy as np"
   ]
  },
  {
   "cell_type": "markdown",
   "id": "63916710",
   "metadata": {},
   "source": [
    "###  Reading Data"
   ]
  },
  {
   "cell_type": "code",
   "execution_count": 2,
   "id": "e0146765",
   "metadata": {},
   "outputs": [],
   "source": [
    "female_population = pd.read_csv('population_of_female.csv')\n",
    "female_completion = pd.read_csv('primary_completion_rate_female.csv')"
   ]
  },
  {
   "cell_type": "markdown",
   "id": "9d2f65d8",
   "metadata": {},
   "source": [
    "#### 1. Create a column named “average_rate” in “primary_completion_rate_female.csv” that contains the average (over time) completion rate."
   ]
  },
  {
   "cell_type": "code",
   "execution_count": 3,
   "id": "817b3085",
   "metadata": {},
   "outputs": [
    {
     "data": {
      "text/html": [
       "<div>\n",
       "<style scoped>\n",
       "    .dataframe tbody tr th:only-of-type {\n",
       "        vertical-align: middle;\n",
       "    }\n",
       "\n",
       "    .dataframe tbody tr th {\n",
       "        vertical-align: top;\n",
       "    }\n",
       "\n",
       "    .dataframe thead th {\n",
       "        text-align: right;\n",
       "    }\n",
       "</style>\n",
       "<table border=\"1\" class=\"dataframe\">\n",
       "  <thead>\n",
       "    <tr style=\"text-align: right;\">\n",
       "      <th></th>\n",
       "      <th>Country Name</th>\n",
       "      <th>avgRate</th>\n",
       "    </tr>\n",
       "  </thead>\n",
       "  <tbody>\n",
       "    <tr>\n",
       "      <th>0</th>\n",
       "      <td>Aruba</td>\n",
       "      <td>96.203056</td>\n",
       "    </tr>\n",
       "    <tr>\n",
       "      <th>1</th>\n",
       "      <td>Africa Eastern and Southern</td>\n",
       "      <td>52.899081</td>\n",
       "    </tr>\n",
       "    <tr>\n",
       "      <th>2</th>\n",
       "      <td>Afghanistan</td>\n",
       "      <td>28.085734</td>\n",
       "    </tr>\n",
       "    <tr>\n",
       "      <th>3</th>\n",
       "      <td>Africa Western and Central</td>\n",
       "      <td>54.108691</td>\n",
       "    </tr>\n",
       "    <tr>\n",
       "      <th>4</th>\n",
       "      <td>Angola</td>\n",
       "      <td>34.111267</td>\n",
       "    </tr>\n",
       "  </tbody>\n",
       "</table>\n",
       "</div>"
      ],
      "text/plain": [
       "                  Country Name    avgRate\n",
       "0                        Aruba  96.203056\n",
       "1  Africa Eastern and Southern  52.899081\n",
       "2                  Afghanistan  28.085734\n",
       "3   Africa Western and Central  54.108691\n",
       "4                       Angola  34.111267"
      ]
     },
     "execution_count": 3,
     "metadata": {},
     "output_type": "execute_result"
    }
   ],
   "source": [
    "female_completion['avgRate'] = female_completion.mean(axis=1, numeric_only=True)\n",
    "df1 = female_completion[['Country Name', 'avgRate']]\n",
    "df1.head()"
   ]
  },
  {
   "cell_type": "markdown",
   "id": "4e4193ec",
   "metadata": {},
   "source": [
    "#### 2. Create a column named “Latest Population” in “population_of_female.csv” that contains the latest population of females in the country."
   ]
  },
  {
   "cell_type": "code",
   "execution_count": 4,
   "id": "86475203",
   "metadata": {},
   "outputs": [
    {
     "data": {
      "text/html": [
       "<div>\n",
       "<style scoped>\n",
       "    .dataframe tbody tr th:only-of-type {\n",
       "        vertical-align: middle;\n",
       "    }\n",
       "\n",
       "    .dataframe tbody tr th {\n",
       "        vertical-align: top;\n",
       "    }\n",
       "\n",
       "    .dataframe thead th {\n",
       "        text-align: right;\n",
       "    }\n",
       "</style>\n",
       "<table border=\"1\" class=\"dataframe\">\n",
       "  <thead>\n",
       "    <tr style=\"text-align: right;\">\n",
       "      <th></th>\n",
       "      <th>Country Name</th>\n",
       "      <th>Country Code</th>\n",
       "      <th>Indicator Name</th>\n",
       "      <th>Indicator Code</th>\n",
       "      <th>1960</th>\n",
       "      <th>1961</th>\n",
       "      <th>1962</th>\n",
       "      <th>1963</th>\n",
       "      <th>1964</th>\n",
       "      <th>1965</th>\n",
       "      <th>...</th>\n",
       "      <th>2013</th>\n",
       "      <th>2014</th>\n",
       "      <th>2015</th>\n",
       "      <th>2016</th>\n",
       "      <th>2017</th>\n",
       "      <th>2018</th>\n",
       "      <th>2019</th>\n",
       "      <th>2020</th>\n",
       "      <th>2021</th>\n",
       "      <th>Latest Population</th>\n",
       "    </tr>\n",
       "  </thead>\n",
       "  <tbody>\n",
       "    <tr>\n",
       "      <th>0</th>\n",
       "      <td>Aruba</td>\n",
       "      <td>ABW</td>\n",
       "      <td>Population, female</td>\n",
       "      <td>SP.POP.TOTL.FE.IN</td>\n",
       "      <td>27773.0</td>\n",
       "      <td>28380.0</td>\n",
       "      <td>28820.0</td>\n",
       "      <td>29218.0</td>\n",
       "      <td>29570.0</td>\n",
       "      <td>29875.0</td>\n",
       "      <td>...</td>\n",
       "      <td>53953.0</td>\n",
       "      <td>54403.0</td>\n",
       "      <td>54828.0</td>\n",
       "      <td>55224.0</td>\n",
       "      <td>55591.0</td>\n",
       "      <td>55935.0</td>\n",
       "      <td>56254.0</td>\n",
       "      <td>56373.0</td>\n",
       "      <td>56330.0</td>\n",
       "      <td>56330.0</td>\n",
       "    </tr>\n",
       "    <tr>\n",
       "      <th>1</th>\n",
       "      <td>Africa Eastern and Southern</td>\n",
       "      <td>AFE</td>\n",
       "      <td>Population, female</td>\n",
       "      <td>SP.POP.TOTL.FE.IN</td>\n",
       "      <td>65853220.0</td>\n",
       "      <td>67606287.0</td>\n",
       "      <td>69457112.0</td>\n",
       "      <td>71375643.0</td>\n",
       "      <td>73386167.0</td>\n",
       "      <td>75478396.0</td>\n",
       "      <td>...</td>\n",
       "      <td>287224786.0</td>\n",
       "      <td>295088995.0</td>\n",
       "      <td>303195759.0</td>\n",
       "      <td>311387262.0</td>\n",
       "      <td>319637226.0</td>\n",
       "      <td>328158974.0</td>\n",
       "      <td>336930831.0</td>\n",
       "      <td>345889729.0</td>\n",
       "      <td>354855082.0</td>\n",
       "      <td>354855082.0</td>\n",
       "    </tr>\n",
       "    <tr>\n",
       "      <th>2</th>\n",
       "      <td>Afghanistan</td>\n",
       "      <td>AFG</td>\n",
       "      <td>Population, female</td>\n",
       "      <td>SP.POP.TOTL.FE.IN</td>\n",
       "      <td>4145945.0</td>\n",
       "      <td>4233771.0</td>\n",
       "      <td>4326881.0</td>\n",
       "      <td>4424511.0</td>\n",
       "      <td>4526691.0</td>\n",
       "      <td>4634341.0</td>\n",
       "      <td>...</td>\n",
       "      <td>15594637.0</td>\n",
       "      <td>16172321.0</td>\n",
       "      <td>16682054.0</td>\n",
       "      <td>17115346.0</td>\n",
       "      <td>17614722.0</td>\n",
       "      <td>18136922.0</td>\n",
       "      <td>18679089.0</td>\n",
       "      <td>19279930.0</td>\n",
       "      <td>19844584.0</td>\n",
       "      <td>19844584.0</td>\n",
       "    </tr>\n",
       "    <tr>\n",
       "      <th>3</th>\n",
       "      <td>Africa Western and Central</td>\n",
       "      <td>AFW</td>\n",
       "      <td>Population, female</td>\n",
       "      <td>SP.POP.TOTL.FE.IN</td>\n",
       "      <td>48802898.0</td>\n",
       "      <td>49850088.0</td>\n",
       "      <td>50928609.0</td>\n",
       "      <td>52044907.0</td>\n",
       "      <td>53196730.0</td>\n",
       "      <td>54389295.0</td>\n",
       "      <td>...</td>\n",
       "      <td>192900081.0</td>\n",
       "      <td>198163527.0</td>\n",
       "      <td>203513873.0</td>\n",
       "      <td>208980433.0</td>\n",
       "      <td>214578994.0</td>\n",
       "      <td>220253839.0</td>\n",
       "      <td>226004857.0</td>\n",
       "      <td>231877590.0</td>\n",
       "      <td>237813580.0</td>\n",
       "      <td>237813580.0</td>\n",
       "    </tr>\n",
       "    <tr>\n",
       "      <th>4</th>\n",
       "      <td>Angola</td>\n",
       "      <td>AGO</td>\n",
       "      <td>Population, female</td>\n",
       "      <td>SP.POP.TOTL.FE.IN</td>\n",
       "      <td>2670229.0</td>\n",
       "      <td>2704394.0</td>\n",
       "      <td>2742689.0</td>\n",
       "      <td>2779473.0</td>\n",
       "      <td>2812590.0</td>\n",
       "      <td>2838939.0</td>\n",
       "      <td>...</td>\n",
       "      <td>13252938.0</td>\n",
       "      <td>13746371.0</td>\n",
       "      <td>14248799.0</td>\n",
       "      <td>14764575.0</td>\n",
       "      <td>15293335.0</td>\n",
       "      <td>15828040.0</td>\n",
       "      <td>16370553.0</td>\n",
       "      <td>16910989.0</td>\n",
       "      <td>17452283.0</td>\n",
       "      <td>17452283.0</td>\n",
       "    </tr>\n",
       "  </tbody>\n",
       "</table>\n",
       "<p>5 rows × 67 columns</p>\n",
       "</div>"
      ],
      "text/plain": [
       "                  Country Name Country Code      Indicator Name  \\\n",
       "0                        Aruba          ABW  Population, female   \n",
       "1  Africa Eastern and Southern          AFE  Population, female   \n",
       "2                  Afghanistan          AFG  Population, female   \n",
       "3   Africa Western and Central          AFW  Population, female   \n",
       "4                       Angola          AGO  Population, female   \n",
       "\n",
       "      Indicator Code        1960        1961        1962        1963  \\\n",
       "0  SP.POP.TOTL.FE.IN     27773.0     28380.0     28820.0     29218.0   \n",
       "1  SP.POP.TOTL.FE.IN  65853220.0  67606287.0  69457112.0  71375643.0   \n",
       "2  SP.POP.TOTL.FE.IN   4145945.0   4233771.0   4326881.0   4424511.0   \n",
       "3  SP.POP.TOTL.FE.IN  48802898.0  49850088.0  50928609.0  52044907.0   \n",
       "4  SP.POP.TOTL.FE.IN   2670229.0   2704394.0   2742689.0   2779473.0   \n",
       "\n",
       "         1964        1965  ...         2013         2014         2015  \\\n",
       "0     29570.0     29875.0  ...      53953.0      54403.0      54828.0   \n",
       "1  73386167.0  75478396.0  ...  287224786.0  295088995.0  303195759.0   \n",
       "2   4526691.0   4634341.0  ...   15594637.0   16172321.0   16682054.0   \n",
       "3  53196730.0  54389295.0  ...  192900081.0  198163527.0  203513873.0   \n",
       "4   2812590.0   2838939.0  ...   13252938.0   13746371.0   14248799.0   \n",
       "\n",
       "          2016         2017         2018         2019         2020  \\\n",
       "0      55224.0      55591.0      55935.0      56254.0      56373.0   \n",
       "1  311387262.0  319637226.0  328158974.0  336930831.0  345889729.0   \n",
       "2   17115346.0   17614722.0   18136922.0   18679089.0   19279930.0   \n",
       "3  208980433.0  214578994.0  220253839.0  226004857.0  231877590.0   \n",
       "4   14764575.0   15293335.0   15828040.0   16370553.0   16910989.0   \n",
       "\n",
       "          2021  Latest Population  \n",
       "0      56330.0            56330.0  \n",
       "1  354855082.0        354855082.0  \n",
       "2   19844584.0         19844584.0  \n",
       "3  237813580.0        237813580.0  \n",
       "4   17452283.0         17452283.0  \n",
       "\n",
       "[5 rows x 67 columns]"
      ]
     },
     "execution_count": 4,
     "metadata": {},
     "output_type": "execute_result"
    }
   ],
   "source": [
    "female_population['Latest Population'] = female_population.iloc[:,-1]\n",
    "female_population.head()"
   ]
  },
  {
   "cell_type": "markdown",
   "id": "7ab425ff",
   "metadata": {},
   "source": [
    "#### 3. What is the weighted average of primary rates of different countries? The weight should be the Latest population of females in the country."
   ]
  },
  {
   "cell_type": "code",
   "execution_count": 5,
   "id": "947106b4",
   "metadata": {},
   "outputs": [
    {
     "name": "stdout",
     "output_type": "stream",
     "text": [
      "77.26494154546334\n"
     ]
    }
   ],
   "source": [
    "wtAvg, sum = 0, 0\n",
    "for i in range(len(female_completion)):\n",
    "    if np.isnan(female_completion['avgRate'][i]):\n",
    "        continue\n",
    "    else:\n",
    "        wtAvg += female_completion['avgRate'][i] * female_population['Latest Population'][i]\n",
    "        sum += female_population['Latest Population'][i]\n",
    "wtAvg /= sum\n",
    "print(wtAvg)"
   ]
  },
  {
   "cell_type": "markdown",
   "id": "cad21ad4",
   "metadata": {},
   "source": [
    "#### 4. What is the Median of average primary completion rate?"
   ]
  },
  {
   "cell_type": "code",
   "execution_count": 6,
   "id": "24cfe63d",
   "metadata": {},
   "outputs": [
    {
     "name": "stdout",
     "output_type": "stream",
     "text": [
      "90.96608239594593\n"
     ]
    }
   ],
   "source": [
    "median = female_completion['avgRate'].median()\n",
    "print(median)"
   ]
  },
  {
   "cell_type": "markdown",
   "id": "cd7865da",
   "metadata": {},
   "source": [
    "#### 5. What is the InterQuartile Range of average primary completion rate?"
   ]
  },
  {
   "cell_type": "code",
   "execution_count": 7,
   "id": "99713d5a",
   "metadata": {},
   "outputs": [
    {
     "name": "stdout",
     "output_type": "stream",
     "text": [
      "29.470233932725478\n"
     ]
    }
   ],
   "source": [
    "q1, q3 = female_completion['avgRate'].quantile([.25,.75])\n",
    "iqr = q3-q1\n",
    "print(iqr)"
   ]
  },
  {
   "cell_type": "markdown",
   "id": "4595a7cd",
   "metadata": {},
   "source": [
    "#### 6. What is the Variance of average primary completion rate?"
   ]
  },
  {
   "cell_type": "code",
   "execution_count": 8,
   "id": "c9e94a18",
   "metadata": {},
   "outputs": [
    {
     "name": "stdout",
     "output_type": "stream",
     "text": [
      "512.931026694745\n"
     ]
    }
   ],
   "source": [
    "variance = female_completion['avgRate'].var()\n",
    "print(variance)"
   ]
  }
 ],
 "metadata": {
  "kernelspec": {
   "display_name": "myenv",
   "language": "python",
   "name": "myenv"
  },
  "language_info": {
   "codemirror_mode": {
    "name": "ipython",
    "version": 3
   },
   "file_extension": ".py",
   "mimetype": "text/x-python",
   "name": "python",
   "nbconvert_exporter": "python",
   "pygments_lexer": "ipython3",
   "version": "3.10.6"
  }
 },
 "nbformat": 4,
 "nbformat_minor": 5
}
