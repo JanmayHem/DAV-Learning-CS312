{
 "cells": [
  {
   "cell_type": "code",
   "execution_count": 1,
   "metadata": {
    "executionInfo": {
     "elapsed": 8,
     "status": "ok",
     "timestamp": 1673431629806,
     "user": {
      "displayName": "Prashant Domadiya",
      "userId": "11474482552073544290"
     },
     "user_tz": -330
    },
    "id": "lacGyYO_15dc"
   },
   "outputs": [],
   "source": [
    "import pandas as pd\n",
    "import json\n",
    "import sys\n"
   ]
  },
  {
   "cell_type": "markdown",
   "metadata": {
    "id": "Rs3s1y9l15dh"
   },
   "source": [
    "Pandas objects: Series and DataFrame"
   ]
  },
  {
   "cell_type": "code",
   "execution_count": 16,
   "metadata": {
    "colab": {
     "base_uri": "https://localhost:8080/"
    },
    "executionInfo": {
     "elapsed": 1244,
     "status": "ok",
     "timestamp": 1673432386098,
     "user": {
      "displayName": "Prashant Domadiya",
      "userId": "11474482552073544290"
     },
     "user_tz": -330
    },
    "id": "z-lqHmEy15dl",
    "outputId": "fdcd4b1f-e6ee-40b5-a702-cc7bb2bd2159"
   },
   "outputs": [
    {
     "name": "stdout",
     "output_type": "stream",
     "text": [
      "RangeIndex(start=0, stop=4, step=1)\n"
     ]
    }
   ],
   "source": [
    "# Series\n",
    "data = pd.Series([0.25, 0.5, 0.75, 1.0]) \n",
    "#print(data)\n",
    "#print(data.values)\n",
    "print(data.index)"
   ]
  },
  {
   "cell_type": "code",
   "execution_count": 19,
   "metadata": {
    "colab": {
     "base_uri": "https://localhost:8080/"
    },
    "executionInfo": {
     "elapsed": 656,
     "status": "ok",
     "timestamp": 1673432412035,
     "user": {
      "displayName": "Prashant Domadiya",
      "userId": "11474482552073544290"
     },
     "user_tz": -330
    },
    "id": "iYmGAM3v15dn",
    "outputId": "cdd555cd-5314-4f8e-e840-cbfe9b840167"
   },
   "outputs": [
    {
     "name": "stdout",
     "output_type": "stream",
     "text": [
      "0.5\n",
      "1    0.50\n",
      "2    0.75\n",
      "3    1.00\n",
      "dtype: float64\n",
      "1    0.50\n",
      "2    0.75\n",
      "dtype: float64\n"
     ]
    }
   ],
   "source": [
    "# Getting value using index\n",
    "print(data[1])\n",
    "print(data[1:4])\n",
    "print(data[1:3])"
   ]
  },
  {
   "cell_type": "code",
   "execution_count": 20,
   "metadata": {
    "colab": {
     "base_uri": "https://localhost:8080/"
    },
    "executionInfo": {
     "elapsed": 388,
     "status": "ok",
     "timestamp": 1673432427991,
     "user": {
      "displayName": "Prashant Domadiya",
      "userId": "11474482552073544290"
     },
     "user_tz": -330
    },
    "id": "E-A4VOm315dp",
    "outputId": "54fbdb89-f88c-4e51-972d-563e31931151",
    "scrolled": true
   },
   "outputs": [
    {
     "name": "stdout",
     "output_type": "stream",
     "text": [
      "hello    0.25\n",
      "5        0.50\n",
      "3        0.75\n",
      "7        1.00\n",
      "dtype: float64\n",
      "1.0\n",
      "hello    0.25\n",
      "5        0.50\n",
      "3        0.75\n",
      "dtype: float64\n",
      "5    0.5\n",
      "7    1.0\n",
      "dtype: float64\n"
     ]
    }
   ],
   "source": [
    "# Series with custom indices\n",
    "data = pd.Series([0.25, 0.5, 0.75, 1.0],index=[\"hello\", 5, 3, 7])\n",
    "print(data)\n",
    "int(data[\"hello\"])\n",
    "print(data[7])\n",
    "print(data[\"hello\":3])\n",
    "print(data[[5,7]])"
   ]
  },
  {
   "cell_type": "code",
   "execution_count": 21,
   "metadata": {
    "colab": {
     "base_uri": "https://localhost:8080/"
    },
    "executionInfo": {
     "elapsed": 395,
     "status": "ok",
     "timestamp": 1673432460175,
     "user": {
      "displayName": "Prashant Domadiya",
      "userId": "11474482552073544290"
     },
     "user_tz": -330
    },
    "id": "QdDp0N3S15dq",
    "outputId": "98687e33-f964-4971-a372-d812d5ca028f"
   },
   "outputs": [
    {
     "name": "stdout",
     "output_type": "stream",
     "text": [
      "Delhi        19000000\n",
      "Ahmedabad     5577940\n",
      "Mumbai       12400000\n",
      "Kolkata      14900000\n",
      "Bangaluru     8400000\n",
      "dtype: int64\n",
      "5577940\n",
      "Delhi        19000000\n",
      "Ahmedabad     5577940\n",
      "Mumbai       12400000\n",
      "Kolkata      14900000\n",
      "dtype: int64\n"
     ]
    }
   ],
   "source": [
    "population_dict = {'Delhi': 19000000,\n",
    "'Ahmedabad': 5577940,\n",
    "'Mumbai': 12400000,\n",
    "'Kolkata': 14900000,\n",
    "'Bangaluru': 8400000}\n",
    "data=pd.Series(population_dict)\n",
    "print(data)\n",
    "print(data[\"Ahmedabad\"])\n",
    "print(data[\"Delhi\":\"Kolkata\"])"
   ]
  },
  {
   "cell_type": "code",
   "execution_count": 22,
   "metadata": {
    "colab": {
     "base_uri": "https://localhost:8080/"
    },
    "executionInfo": {
     "elapsed": 419,
     "status": "ok",
     "timestamp": 1673432562328,
     "user": {
      "displayName": "Prashant Domadiya",
      "userId": "11474482552073544290"
     },
     "user_tz": -330
    },
    "id": "8UKsHIPw15dr",
    "outputId": "0e3c953b-b39f-4f5a-95e6-d7264f7c6588"
   },
   "outputs": [
    {
     "name": "stdout",
     "output_type": "stream",
     "text": [
      "           population    area\n",
      "Delhi        19000000  1484.0\n",
      "Ahmedabad     5577940   464.0\n",
      "Mumbai       12400000   603.4\n",
      "Kolkata      14900000   206.1\n",
      "Bangaluru     8400000   790.0\n"
     ]
    }
   ],
   "source": [
    "# DataFrame\n",
    "area_dict = {'Delhi': 1484,\n",
    "'Ahmedabad': 464,\n",
    "'Mumbai': 603.4,\n",
    "'Kolkata': 206.1,\n",
    "'Bangaluru': 790}\n",
    "\n",
    "states = pd.DataFrame({'population': population_dict,\n",
    "                        'area': area_dict})\n",
    "\n",
    "print(states)"
   ]
  },
  {
   "cell_type": "code",
   "execution_count": 23,
   "metadata": {
    "colab": {
     "base_uri": "https://localhost:8080/"
    },
    "executionInfo": {
     "elapsed": 420,
     "status": "ok",
     "timestamp": 1673432608821,
     "user": {
      "displayName": "Prashant Domadiya",
      "userId": "11474482552073544290"
     },
     "user_tz": -330
    },
    "id": "yworzUK115ds",
    "outputId": "c82925eb-1f09-488f-d65d-2db0dab07564"
   },
   "outputs": [
    {
     "name": "stdout",
     "output_type": "stream",
     "text": [
      "Index(['Delhi', 'Ahmedabad', 'Mumbai', 'Kolkata', 'Bangaluru'], dtype='object')\n",
      "Index(['population', 'area'], dtype='object')\n",
      "[[1.90000e+07 1.48400e+03]\n",
      " [5.57794e+06 4.64000e+02]\n",
      " [1.24000e+07 6.03400e+02]\n",
      " [1.49000e+07 2.06100e+02]\n",
      " [8.40000e+06 7.90000e+02]]\n"
     ]
    }
   ],
   "source": [
    "print(states.index)\n",
    "print(states.columns)\n",
    "print(states.values)"
   ]
  },
  {
   "cell_type": "code",
   "execution_count": 25,
   "metadata": {
    "colab": {
     "base_uri": "https://localhost:8080/"
    },
    "executionInfo": {
     "elapsed": 415,
     "status": "ok",
     "timestamp": 1673432734382,
     "user": {
      "displayName": "Prashant Domadiya",
      "userId": "11474482552073544290"
     },
     "user_tz": -330
    },
    "id": "Sqb43vdY15dv",
    "outputId": "e643f029-2c14-411e-92d5-b1eaac8458f3"
   },
   "outputs": [
    {
     "name": "stdout",
     "output_type": "stream",
     "text": [
      "Delhi        19000000\n",
      "Ahmedabad     5577940\n",
      "Mumbai       12400000\n",
      "Kolkata      14900000\n",
      "Bangaluru     8400000\n",
      "Name: population, dtype: int64\n",
      "Delhi        1484.0\n",
      "Ahmedabad     464.0\n",
      "Mumbai        603.4\n",
      "Kolkata       206.1\n",
      "Bangaluru     790.0\n",
      "Name: area, dtype: float64\n"
     ]
    }
   ],
   "source": [
    "print(states[\"population\"])\n",
    "print(states.area)"
   ]
  },
  {
   "cell_type": "code",
   "execution_count": 29,
   "metadata": {
    "colab": {
     "base_uri": "https://localhost:8080/"
    },
    "executionInfo": {
     "elapsed": 419,
     "status": "ok",
     "timestamp": 1673432889965,
     "user": {
      "displayName": "Prashant Domadiya",
      "userId": "11474482552073544290"
     },
     "user_tz": -330
    },
    "id": "KAOdGHfh15dv",
    "outputId": "f32c4d09-2621-4bac-d42d-a4e87bf20eb3"
   },
   "outputs": [
    {
     "name": "stdout",
     "output_type": "stream",
     "text": [
      "790.0\n",
      "population    5577940.0\n",
      "area              464.0\n",
      "Name: Ahmedabad, dtype: float64\n"
     ]
    }
   ],
   "source": [
    "print(states.iloc[-1,-1])\n",
    "print(states.iloc[1])"
   ]
  },
  {
   "cell_type": "code",
   "execution_count": 30,
   "metadata": {
    "colab": {
     "base_uri": "https://localhost:8080/"
    },
    "executionInfo": {
     "elapsed": 415,
     "status": "ok",
     "timestamp": 1673432958540,
     "user": {
      "displayName": "Prashant Domadiya",
      "userId": "11474482552073544290"
     },
     "user_tz": -330
    },
    "id": "ZF_jNlca15dw",
    "outputId": "ac3fdf07-3f2e-4104-8200-6f3974a440e6"
   },
   "outputs": [
    {
     "name": "stdout",
     "output_type": "stream",
     "text": [
      "464.0\n",
      "population    12400000.0\n",
      "area               603.4\n",
      "Name: Mumbai, dtype: float64\n"
     ]
    }
   ],
   "source": [
    "print(states.loc[\"Ahmedabad\",\"area\"])\n",
    "print(states.loc[\"Mumbai\"])"
   ]
  },
  {
   "cell_type": "code",
   "execution_count": 31,
   "metadata": {
    "colab": {
     "base_uri": "https://localhost:8080/"
    },
    "collapsed": true,
    "executionInfo": {
     "elapsed": 399,
     "status": "ok",
     "timestamp": 1673433242915,
     "user": {
      "displayName": "Prashant Domadiya",
      "userId": "11474482552073544290"
     },
     "user_tz": -330
    },
    "id": "-ausXFhY15dz",
    "outputId": "f4332481-62c6-4c36-9166-2a8df9ed36b1"
   },
   "outputs": [
    {
     "name": "stdout",
     "output_type": "stream",
     "text": [
      "           Date                      State          Sector     Mode  \\\n",
      "0    08-01-2022  Andaman & Nicobar Islands    STATE SECTOR  Thermal   \n",
      "1    08-01-2022  Andaman & Nicobar Islands    STATE SECTOR  Nuclear   \n",
      "2    08-01-2022  Andaman & Nicobar Islands    STATE SECTOR    Hydro   \n",
      "3    08-01-2022  Andaman & Nicobar Islands    STATE SECTOR      RES   \n",
      "4    08-01-2022  Andaman & Nicobar Islands      PVT SECTOR  Thermal   \n",
      "..          ...                        ...             ...      ...   \n",
      "418  08-01-2022                West Bengal      PVT SECTOR    Hydro   \n",
      "419  08-01-2022                West Bengal      PVT SECTOR      RES   \n",
      "420  08-01-2022                West Bengal  CENTRAL SECTOR  Thermal   \n",
      "421  08-01-2022                West Bengal  CENTRAL SECTOR  Nuclear   \n",
      "422  08-01-2022                West Bengal  CENTRAL SECTOR    Hydro   \n",
      "\n",
      "     Installed Capacity  \n",
      "0                40.048  \n",
      "1                 0.000  \n",
      "2                 0.000  \n",
      "3                 5.250  \n",
      "4                 0.000  \n",
      "..                  ...  \n",
      "418               0.000  \n",
      "419             462.950  \n",
      "420            6850.000  \n",
      "421               0.000  \n",
      "422             355.200  \n",
      "\n",
      "[423 rows x 5 columns]\n"
     ]
    }
   ],
   "source": [
    "# Loading data of different file formate as DataFrame\n",
    "\n",
    "#from csv\n",
    "data=pd.read_csv(\"MOP_installed_capacity_sector_mode_wise.csv\")\n",
    "print(data)\n",
    "# data.gov.in"
   ]
  },
  {
   "cell_type": "code",
   "execution_count": 36,
   "metadata": {
    "colab": {
     "base_uri": "https://localhost:8080/"
    },
    "executionInfo": {
     "elapsed": 419,
     "status": "ok",
     "timestamp": 1673433591473,
     "user": {
      "displayName": "Prashant Domadiya",
      "userId": "11474482552073544290"
     },
     "user_tz": -330
    },
    "id": "tEXcxP5F15dz",
    "outputId": "c2a1472e-090d-4b7b-ec4c-480d2043f276"
   },
   "outputs": [
    {
     "name": "stdout",
     "output_type": "stream",
     "text": [
      "dict_keys(['fields', 'data'])\n",
      "5\n",
      "423\n",
      "[{'id': 'a', 'label': 'Date', 'type': 'string'}, {'id': 'b', 'label': 'State', 'type': 'string'}, {'id': 'c', 'label': 'Sector', 'type': 'string'}, {'id': 'd', 'label': 'Mode', 'type': 'string'}, {'id': 'e', 'label': 'Installed Capacity', 'type': 'string'}]\n",
      "              0                          1               2        3       4\n",
      "0    08-01-2022  Andaman & Nicobar Islands    STATE SECTOR  Thermal  40.048\n",
      "1    08-01-2022  Andaman & Nicobar Islands    STATE SECTOR  Nuclear       0\n",
      "2    08-01-2022  Andaman & Nicobar Islands    STATE SECTOR    Hydro       0\n",
      "3    08-01-2022  Andaman & Nicobar Islands    STATE SECTOR      RES    5.25\n",
      "4    08-01-2022  Andaman & Nicobar Islands      PVT SECTOR  Thermal       0\n",
      "..          ...                        ...             ...      ...     ...\n",
      "418  08-01-2022                West Bengal      PVT SECTOR    Hydro       0\n",
      "419  08-01-2022                West Bengal      PVT SECTOR      RES  462.95\n",
      "420  08-01-2022                West Bengal  CENTRAL SECTOR  Thermal    6850\n",
      "421  08-01-2022                West Bengal  CENTRAL SECTOR  Nuclear       0\n",
      "422  08-01-2022                West Bengal  CENTRAL SECTOR    Hydro   355.2\n",
      "\n",
      "[423 rows x 5 columns]\n"
     ]
    }
   ],
   "source": [
    "#from json\n",
    "filepath=\"MOP_installed_capacity_sector_mode_wise.json\"\n",
    "f = open(filepath)\n",
    "data=json.load(f)\n",
    "#data=pd.read_json(filepath)\n",
    "\n",
    "#df=pd.DataFrame(data) # this return an error\n",
    "\n",
    "print(data.keys())\n",
    "\n",
    "print(len(data[\"fields\"]))\n",
    "print(len(data[\"data\"]))\n",
    "print(data[\"fields\"])\n",
    "df=pd.DataFrame(data[\"data\"])\n",
    "print(df)"
   ]
  },
  {
   "cell_type": "code",
   "execution_count": 34,
   "metadata": {
    "colab": {
     "base_uri": "https://localhost:8080/"
    },
    "executionInfo": {
     "elapsed": 706,
     "status": "ok",
     "timestamp": 1673433536456,
     "user": {
      "displayName": "Prashant Domadiya",
      "userId": "11474482552073544290"
     },
     "user_tz": -330
    },
    "id": "kGyHAvFv15d0",
    "outputId": "380d510a-07c0-4a81-ff94-008f156d35af"
   },
   "outputs": [
    {
     "name": "stdout",
     "output_type": "stream",
     "text": [
      "['Date', 'State', 'Sector', 'Mode', 'Installed Capacity']\n",
      "           Date                      State          Sector     Mode  \\\n",
      "0    08-01-2022  Andaman & Nicobar Islands    STATE SECTOR  Thermal   \n",
      "1    08-01-2022  Andaman & Nicobar Islands    STATE SECTOR  Nuclear   \n",
      "2    08-01-2022  Andaman & Nicobar Islands    STATE SECTOR    Hydro   \n",
      "3    08-01-2022  Andaman & Nicobar Islands    STATE SECTOR      RES   \n",
      "4    08-01-2022  Andaman & Nicobar Islands      PVT SECTOR  Thermal   \n",
      "..          ...                        ...             ...      ...   \n",
      "418  08-01-2022                West Bengal      PVT SECTOR    Hydro   \n",
      "419  08-01-2022                West Bengal      PVT SECTOR      RES   \n",
      "420  08-01-2022                West Bengal  CENTRAL SECTOR  Thermal   \n",
      "421  08-01-2022                West Bengal  CENTRAL SECTOR  Nuclear   \n",
      "422  08-01-2022                West Bengal  CENTRAL SECTOR    Hydro   \n",
      "\n",
      "    Installed Capacity  \n",
      "0               40.048  \n",
      "1                    0  \n",
      "2                    0  \n",
      "3                 5.25  \n",
      "4                    0  \n",
      "..                 ...  \n",
      "418                  0  \n",
      "419             462.95  \n",
      "420               6850  \n",
      "421                  0  \n",
      "422              355.2  \n",
      "\n",
      "[423 rows x 5 columns]\n"
     ]
    }
   ],
   "source": [
    "\n",
    "columns=pd.DataFrame(data[\"fields\"])[\"label\"].tolist()\n",
    "print(columns)\n",
    "df=pd.DataFrame(data[\"data\"],columns=columns)\n",
    "print(df)"
   ]
  },
  {
   "cell_type": "code",
   "execution_count": 38,
   "metadata": {
    "colab": {
     "base_uri": "https://localhost:8080/"
    },
    "executionInfo": {
     "elapsed": 4071,
     "status": "ok",
     "timestamp": 1673433696300,
     "user": {
      "displayName": "Prashant Domadiya",
      "userId": "11474482552073544290"
     },
     "user_tz": -330
    },
    "id": "BT2vkX0t15d1",
    "outputId": "cacd00c4-15a0-45bf-a81b-46ed09572a27",
    "scrolled": true
   },
   "outputs": [
    {
     "name": "stdout",
     "output_type": "stream",
     "text": [
      "Looking in indexes: https://pypi.org/simple, https://us-python.pkg.dev/colab-wheels/public/simple/\n",
      "Requirement already satisfied: odfpy in /usr/local/lib/python3.8/dist-packages (1.4.1)\n",
      "Requirement already satisfied: defusedxml in /usr/local/lib/python3.8/dist-packages (from odfpy) (0.7.1)\n",
      "           Date                      State          Sector     Mode  \\\n",
      "0    08-01-2022  Andaman & Nicobar Islands    STATE SECTOR  Thermal   \n",
      "1    08-01-2022  Andaman & Nicobar Islands    STATE SECTOR  Nuclear   \n",
      "2    08-01-2022  Andaman & Nicobar Islands    STATE SECTOR    Hydro   \n",
      "3    08-01-2022  Andaman & Nicobar Islands    STATE SECTOR      RES   \n",
      "4    08-01-2022  Andaman & Nicobar Islands      PVT SECTOR  Thermal   \n",
      "..          ...                        ...             ...      ...   \n",
      "418  08-01-2022                West Bengal      PVT SECTOR    Hydro   \n",
      "419  08-01-2022                West Bengal      PVT SECTOR      RES   \n",
      "420  08-01-2022                West Bengal  CENTRAL SECTOR  Thermal   \n",
      "421  08-01-2022                West Bengal  CENTRAL SECTOR  Nuclear   \n",
      "422  08-01-2022                West Bengal  CENTRAL SECTOR    Hydro   \n",
      "\n",
      "     Installed Capacity  \n",
      "0                40.048  \n",
      "1                 0.000  \n",
      "2                 0.000  \n",
      "3                 5.250  \n",
      "4                 0.000  \n",
      "..                  ...  \n",
      "418               0.000  \n",
      "419             462.950  \n",
      "420            6850.000  \n",
      "421               0.000  \n",
      "422             355.200  \n",
      "\n",
      "[423 rows x 5 columns]\n"
     ]
    }
   ],
   "source": [
    "# read ods\n",
    "#!pip install odfpy # install it to read .ods file\n",
    "#!conda install -c conda-forge odfpy\n",
    "# Note run it in terminal\n",
    "filepath=\"MOP_installed_capacity_sector_mode_wise.ods\"\n",
    "data=pd.read_excel(filepath, engine=\"odf\")\n",
    "print(data)\n"
   ]
  },
  {
   "cell_type": "code",
   "execution_count": 42,
   "metadata": {
    "colab": {
     "base_uri": "https://localhost:8080/"
    },
    "executionInfo": {
     "elapsed": 397,
     "status": "ok",
     "timestamp": 1673433797923,
     "user": {
      "displayName": "Prashant Domadiya",
      "userId": "11474482552073544290"
     },
     "user_tz": -330
    },
    "id": "MIgFCXZx15d2",
    "outputId": "f790968c-2029-4b18-952f-4c7841997e2f"
   },
   "outputs": [
    {
     "name": "stdout",
     "output_type": "stream",
     "text": [
      "{'Sheet 0':            Date                      State          Sector     Mode  \\\n",
      "0    08-01-2022  Andaman & Nicobar Islands    STATE SECTOR  Thermal   \n",
      "1    08-01-2022  Andaman & Nicobar Islands    STATE SECTOR  Nuclear   \n",
      "2    08-01-2022  Andaman & Nicobar Islands    STATE SECTOR    Hydro   \n",
      "3    08-01-2022  Andaman & Nicobar Islands    STATE SECTOR      RES   \n",
      "4    08-01-2022  Andaman & Nicobar Islands      PVT SECTOR  Thermal   \n",
      "..          ...                        ...             ...      ...   \n",
      "418  08-01-2022                West Bengal      PVT SECTOR    Hydro   \n",
      "419  08-01-2022                West Bengal      PVT SECTOR      RES   \n",
      "420  08-01-2022                West Bengal  CENTRAL SECTOR  Thermal   \n",
      "421  08-01-2022                West Bengal  CENTRAL SECTOR  Nuclear   \n",
      "422  08-01-2022                West Bengal  CENTRAL SECTOR    Hydro   \n",
      "\n",
      "     Installed Capacity  \n",
      "0                40.048  \n",
      "1                 0.000  \n",
      "2                 0.000  \n",
      "3                 5.250  \n",
      "4                 0.000  \n",
      "..                  ...  \n",
      "418               0.000  \n",
      "419             462.950  \n",
      "420            6850.000  \n",
      "421               0.000  \n",
      "422             355.200  \n",
      "\n",
      "[423 rows x 5 columns]}\n"
     ]
    }
   ],
   "source": [
    "# read xls\n",
    "#!conda install -c conda-forge xlrd\n",
    "filepath=\"MOP_installed_capacity_sector_mode_wise.xls\"\n",
    "data=pd.read_excel(filepath, sheet_name=None)\n",
    "print(data)\n",
    "#print(data[\"Worksheet\"])\n",
    "#data=data[\"Worksheet\"]"
   ]
  },
  {
   "cell_type": "code",
   "execution_count": 43,
   "metadata": {
    "colab": {
     "base_uri": "https://localhost:8080/"
    },
    "executionInfo": {
     "elapsed": 474,
     "status": "ok",
     "timestamp": 1673433822010,
     "user": {
      "displayName": "Prashant Domadiya",
      "userId": "11474482552073544290"
     },
     "user_tz": -330
    },
    "id": "wi68y8p015d3",
    "outputId": "7d8e31c5-63d9-44be-999b-ad555a62523a"
   },
   "outputs": [
    {
     "name": "stdout",
     "output_type": "stream",
     "text": [
      "        DATE                      STATE          SECTOR     MODE  \\\n",
      "0    8012022  Andaman & Nicobar Islands    STATE SECTOR  Thermal   \n",
      "1    8012022  Andaman & Nicobar Islands    STATE SECTOR  Nuclear   \n",
      "2    8012022  Andaman & Nicobar Islands    STATE SECTOR    Hydro   \n",
      "3    8012022  Andaman & Nicobar Islands    STATE SECTOR      RES   \n",
      "4    8012022  Andaman & Nicobar Islands      PVT SECTOR  Thermal   \n",
      "..       ...                        ...             ...      ...   \n",
      "418  8012022                West Bengal      PVT SECTOR    Hydro   \n",
      "419  8012022                West Bengal      PVT SECTOR      RES   \n",
      "420  8012022                West Bengal  CENTRAL SECTOR  Thermal   \n",
      "421  8012022                West Bengal  CENTRAL SECTOR  Nuclear   \n",
      "422  8012022                West Bengal  CENTRAL SECTOR    Hydro   \n",
      "\n",
      "     INSTALLED_CAPACITY  \n",
      "0                40.048  \n",
      "1                 0.000  \n",
      "2                 0.000  \n",
      "3                 5.250  \n",
      "4                 0.000  \n",
      "..                  ...  \n",
      "418               0.000  \n",
      "419             462.950  \n",
      "420            6850.000  \n",
      "421               0.000  \n",
      "422             355.200  \n",
      "\n",
      "[423 rows x 5 columns]\n"
     ]
    }
   ],
   "source": [
    "# read xml\n",
    "filepath=\"MOP_installed_capacity_sector_mode_wise.xml\"\n",
    "data=pd.read_xml(filepath)\n",
    "print(data)"
   ]
  },
  {
   "cell_type": "code",
   "execution_count": 44,
   "metadata": {
    "executionInfo": {
     "elapsed": 441,
     "status": "ok",
     "timestamp": 1673433854964,
     "user": {
      "displayName": "Prashant Domadiya",
      "userId": "11474482552073544290"
     },
     "user_tz": -330
    },
    "id": "yxt1H6HM15d4"
   },
   "outputs": [],
   "source": [
    "# Saving dataframe as CSV\n",
    "filepath=\"test.csv\"\n",
    "data.to_csv(filepath,index=False)"
   ]
  },
  {
   "cell_type": "code",
   "execution_count": 46,
   "metadata": {
    "colab": {
     "base_uri": "https://localhost:8080/"
    },
    "executionInfo": {
     "elapsed": 410,
     "status": "ok",
     "timestamp": 1673433942678,
     "user": {
      "displayName": "Prashant Domadiya",
      "userId": "11474482552073544290"
     },
     "user_tz": -330
    },
    "id": "-THtL3525XyV",
    "outputId": "cd909a0a-e911-477c-8ab5-eca0a42c0bcf"
   },
   "outputs": [
    {
     "name": "stdout",
     "output_type": "stream",
     "text": [
      "   Start Month _ Year End Month _ Year              State  \\\n",
      "0              Apr-15           Mar-16              Bihar   \n",
      "1              Apr-15           Mar-16              Bihar   \n",
      "2              Apr-15           Mar-16          Jharkhand   \n",
      "3              Apr-15           Mar-16             Odisha   \n",
      "4              Apr-15           Mar-16             Odisha   \n",
      "5              Apr-15           Mar-16             Odisha   \n",
      "6              Apr-15           Mar-16             Odisha   \n",
      "7              Apr-15           Mar-16             Sikkim   \n",
      "8              Apr-15           Mar-16        West Bengal   \n",
      "9              Apr-15           Mar-16  Arunachal Pradesh   \n",
      "10             Apr-15           Mar-16              Assam   \n",
      "11             Apr-15           Mar-16            Manipur   \n",
      "12             Apr-15           Mar-16          Meghalaya   \n",
      "13             Apr-15           Mar-16            Mizoram   \n",
      "14             Apr-15           Mar-16           Nagaland   \n",
      "15             Apr-15           Mar-16            Tripura   \n",
      "16             Apr-15           Mar-16              Delhi   \n",
      "17             Apr-15           Mar-16              Delhi   \n",
      "18             Apr-15           Mar-16              Delhi   \n",
      "19             Apr-15           Mar-16            Haryana   \n",
      "20             Apr-15           Mar-16            Haryana   \n",
      "21             Apr-15           Mar-16   Himachal Pradesh   \n",
      "22             Apr-15           Mar-16    Jammu & Kashmir   \n",
      "23             Apr-15           Mar-16             Punjab   \n",
      "24             Apr-15           Mar-16          Rajasthan   \n",
      "25             Apr-15           Mar-16          Rajasthan   \n",
      "26             Apr-15           Mar-16          Rajasthan   \n",
      "27             Apr-15           Mar-16      Uttar Pradesh   \n",
      "28             Apr-15           Mar-16      Uttar Pradesh   \n",
      "29             Apr-15           Mar-16      Uttar Pradesh   \n",
      "30             Apr-15           Mar-16      Uttar Pradesh   \n",
      "31             Apr-15           Mar-16      Uttar Pradesh   \n",
      "32             Apr-15           Mar-16        Uttarakhand   \n",
      "33             Apr-15           Mar-16     Andhra Pradesh   \n",
      "34             Apr-15           Mar-16     Andhra Pradesh   \n",
      "35             Apr-15           Mar-16         Karnataka    \n",
      "36             Apr-15           Mar-16         Karnataka    \n",
      "37             Apr-15           Mar-16         Karnataka    \n",
      "38             Apr-15           Mar-16         Karnataka    \n",
      "39             Apr-15           Mar-16         Karnataka    \n",
      "40             Apr-15           Mar-16             Kerala   \n",
      "41             Apr-15           Mar-16         Puducherry   \n",
      "42             Apr-15           Mar-16         Tamil Nadu   \n",
      "43             Apr-15           Mar-16          Telangana   \n",
      "44             Apr-15           Mar-16          Telangana   \n",
      "45             Apr-15           Mar-16        Chattisgarh   \n",
      "46             Apr-15           Mar-16                Goa   \n",
      "47             Apr-15           Mar-16            Gujarat   \n",
      "48             Apr-15           Mar-16            Gujarat   \n",
      "49             Apr-15           Mar-16            Gujarat   \n",
      "50             Apr-15           Mar-16            Gujarat   \n",
      "51             Apr-15           Mar-16     Madhya Pradesh   \n",
      "52             Apr-15           Mar-16     Madhya Pradesh   \n",
      "53             Apr-15           Mar-16     Madhya Pradesh   \n",
      "54             Apr-15           Mar-16        Maharashtra   \n",
      "\n",
      "                     DISCOM Input Energy (MU) Billed Energy (MU)  \\\n",
      "0                    NBPDCL             7,631              5,206   \n",
      "1                    SBPDCL            12,634              7,085   \n",
      "2                     JBVNL            12,380              9,059   \n",
      "3                      CESU             8,367              5,571   \n",
      "4             NESCO Utility             5,196              3,807   \n",
      "5             SESCO Utility             3,283              2,078   \n",
      "6             WESCO Utility             6,942              4,598   \n",
      "7                 Sikkim PD               386                265   \n",
      "8                   WBSEDCL            33,921             22,991   \n",
      "9              Arunachal PD               735                347   \n",
      "10                    APDCL             7,571              6,199   \n",
      "11                   MSPDCL               666                475   \n",
      "12                   MePDCL             1,669              1,058   \n",
      "13               Mizoram PD               480                339   \n",
      "14              Nagaland PD               751                549   \n",
      "15                    TSECL             1,250                813   \n",
      "16            BSES Rajdhani            12,455             10,902   \n",
      "17              BSES Yamuna             7,024              5,980   \n",
      "18                    TPDDL             8,612              7,868   \n",
      "19                   DHBVNL            24,862             18,777   \n",
      "20                   UHBVNL            19,648             13,460   \n",
      "21               HPSEB Ltd.             8,944              7,951   \n",
      "22                  J&K PDD            13,298              6,591   \n",
      "23                    PSPCL            48,414             41,330   \n",
      "24                    AVVNL            17,957             13,154   \n",
      "25                   JDVVNL            21,615             16,574   \n",
      "26                    JVVNL            26,213             17,852   \n",
      "27                     DVVN            17,058             12,075   \n",
      "28                    KESCO             3,584              3,085   \n",
      "29                     MVVN            16,296             12,658   \n",
      "30                 Pash VVN            26,926             21,905   \n",
      "31                Poorv VVN            20,638             15,888   \n",
      "32                   Ut PCL            12,560             10,298   \n",
      "33                  APEPDCL            16,434             15,534   \n",
      "34                  APSPDCL            33,291             28,710   \n",
      "35                   BESCOM            27,893             24,538   \n",
      "36                  CHESCOM             6,256              5,405   \n",
      "37                   GESCOM             7,936              6,508   \n",
      "38                   HESCOM            12,143             10,092   \n",
      "39                   MESCOM             4,869              4,309   \n",
      "40                    KSEBL            22,584             19,325   \n",
      "41            Puducherry PD             2,723              2,398   \n",
      "42                 TANGEDCO            85,737             68,441   \n",
      "43                  TSNPDCL            13,270             11,566   \n",
      "44                  TSSPDCL            33,310             29,479   \n",
      "45                   CSPDCL            23,972             18,603   \n",
      "46                   Goa PD             3,840              3,160   \n",
      "47                    DGVCL            18,067             16,336   \n",
      "48                    MGVCL             9,818              8,675   \n",
      "49                    PGVCL            28,171             21,209   \n",
      "50                    UGVCL            19,738             17,254   \n",
      "51   MP Madhya Kshetra VVCL            19,708             14,712   \n",
      "52  MP Paschim Kshetra VVCL            23,150             16,908   \n",
      "53     MP Purv Kshetra VVCL            17,960             13,891   \n",
      "54                   MSEDCL          1,10,961             94,268   \n",
      "\n",
      "   Billed Amount (Rs crore) Collected Amount (Rs crore)  AT&C Losses (%)  \n",
      "0                     2,049                       1,840            38.73  \n",
      "1                     3,289                       3,123            46.75  \n",
      "2                     2,867                       2,435            37.84  \n",
      "3                     2,862                       2,714            36.86  \n",
      "4                     2,067                       1,809            35.89  \n",
      "5                       986                         841            46.03  \n",
      "6                     2,573                       2,334            39.92  \n",
      "7                       130                         120            36.68  \n",
      "8                    14,932                      15,179            31.10  \n",
      "9                       131                         117            57.74  \n",
      "10                    3,619                       3,314            25.02  \n",
      "11                      142                          99            50.35  \n",
      "12                      544                         461            46.34  \n",
      "13                      198                         188            32.96  \n",
      "14                      105                          35            75.56  \n",
      "15                      496                         490            35.77  \n",
      "16                    8,820                       8,738            13.29  \n",
      "17                    4,734                       4,705            15.39  \n",
      "18                    6,581                       6,562             8.90  \n",
      "19                   11,522                      10,643            30.23  \n",
      "20                    7,768                       7,367            35.03  \n",
      "21                    4,351                       4,259            12.98  \n",
      "22                    2,012                       1,674            58.75  \n",
      "23                   17,502                      16,964            17.26  \n",
      "24                    8,302                       8,430            25.62  \n",
      "25                    9,950                      10,005            22.90  \n",
      "26                   11,460                      11,261            33.08  \n",
      "27                    5,710                       3,859            52.16  \n",
      "28                    2,102                       2,061            15.64  \n",
      "29                    5,904                       5,248            30.96  \n",
      "30                   11,781                      10,747            25.79  \n",
      "31                    5,909                       5,016            34.65  \n",
      "32                    4,667                       4,995            12.25  \n",
      "33                    7,381                       7,297             6.56  \n",
      "34                   11,906                      11,455            17.02  \n",
      "35                   12,532                      12,483            12.37  \n",
      "36                    1,734                       1,766            11.99  \n",
      "37                    3,501                       3,490            18.24  \n",
      "38                    2,445                       2,464            16.23  \n",
      "39                    1,832                       1,825            11.83  \n",
      "40                   10,873                      10,656            16.14  \n",
      "41                    1,112                         985            21.95  \n",
      "42                   41,444                      41,333            20.39  \n",
      "43                    3,635                       3,533            15.29  \n",
      "44                   15,720                      15,325            13.73  \n",
      "45                    9,210                       8,701            26.69  \n",
      "46                    1,235                       1,249            16.81  \n",
      "47                   10,825                      10,726            10.41  \n",
      "48                    5,089                       5,150            10.59  \n",
      "49                   11,431                      11,441            24.65  \n",
      "50                    8,199                       8,234            12.21  \n",
      "51                    5,926                       5,272            33.59  \n",
      "52                    6,333                       6,038            30.37  \n",
      "53                    6,206                       5,931            26.09  \n",
      "54                   41,548                      37,597            23.12  \n"
     ]
    }
   ],
   "source": [
    "filepath=\"MOP_ATC_losses.csv\"\n",
    "data_2=pd.read_csv(filepath)\n",
    "#print(data_2.columns)\n",
    "print(data_2)"
   ]
  },
  {
   "cell_type": "code",
   "execution_count": 47,
   "metadata": {
    "colab": {
     "base_uri": "https://localhost:8080/",
     "height": 385
    },
    "executionInfo": {
     "elapsed": 591,
     "status": "error",
     "timestamp": 1673434018716,
     "user": {
      "displayName": "Prashant Domadiya",
      "userId": "11474482552073544290"
     },
     "user_tz": -330
    },
    "id": "Z7zjLxJX15d5",
    "outputId": "b83a521d-da48-4f29-dd8e-eeeffdf90d45"
   },
   "outputs": [
    {
     "ename": "MergeError",
     "evalue": "ignored",
     "output_type": "error",
     "traceback": [
      "\u001b[0;31m---------------------------------------------------------------------------\u001b[0m",
      "\u001b[0;31mMergeError\u001b[0m                                Traceback (most recent call last)",
      "\u001b[0;32m<ipython-input-47-4e27ca4acd18>\u001b[0m in \u001b[0;36m<module>\u001b[0;34m\u001b[0m\n\u001b[0;32m----> 1\u001b[0;31m \u001b[0mdf\u001b[0m\u001b[0;34m=\u001b[0m\u001b[0mpd\u001b[0m\u001b[0;34m.\u001b[0m\u001b[0mmerge\u001b[0m\u001b[0;34m(\u001b[0m\u001b[0mdata\u001b[0m\u001b[0;34m,\u001b[0m\u001b[0mdata_2\u001b[0m\u001b[0;34m)\u001b[0m\u001b[0;34m\u001b[0m\u001b[0;34m\u001b[0m\u001b[0m\n\u001b[0m",
      "\u001b[0;32m/usr/local/lib/python3.8/dist-packages/pandas/core/reshape/merge.py\u001b[0m in \u001b[0;36mmerge\u001b[0;34m(left, right, how, on, left_on, right_on, left_index, right_index, sort, suffixes, copy, indicator, validate)\u001b[0m\n\u001b[1;32m    104\u001b[0m     \u001b[0mvalidate\u001b[0m\u001b[0;34m:\u001b[0m \u001b[0mstr\u001b[0m \u001b[0;34m|\u001b[0m \u001b[0;32mNone\u001b[0m \u001b[0;34m=\u001b[0m \u001b[0;32mNone\u001b[0m\u001b[0;34m,\u001b[0m\u001b[0;34m\u001b[0m\u001b[0;34m\u001b[0m\u001b[0m\n\u001b[1;32m    105\u001b[0m ) -> DataFrame:\n\u001b[0;32m--> 106\u001b[0;31m     op = _MergeOperation(\n\u001b[0m\u001b[1;32m    107\u001b[0m         \u001b[0mleft\u001b[0m\u001b[0;34m,\u001b[0m\u001b[0;34m\u001b[0m\u001b[0;34m\u001b[0m\u001b[0m\n\u001b[1;32m    108\u001b[0m         \u001b[0mright\u001b[0m\u001b[0;34m,\u001b[0m\u001b[0;34m\u001b[0m\u001b[0;34m\u001b[0m\u001b[0m\n",
      "\u001b[0;32m/usr/local/lib/python3.8/dist-packages/pandas/core/reshape/merge.py\u001b[0m in \u001b[0;36m__init__\u001b[0;34m(self, left, right, how, on, left_on, right_on, axis, left_index, right_index, sort, suffixes, copy, indicator, validate)\u001b[0m\n\u001b[1;32m    679\u001b[0m             \u001b[0mwarnings\u001b[0m\u001b[0;34m.\u001b[0m\u001b[0mwarn\u001b[0m\u001b[0;34m(\u001b[0m\u001b[0mmsg\u001b[0m\u001b[0;34m,\u001b[0m \u001b[0mFutureWarning\u001b[0m\u001b[0;34m,\u001b[0m \u001b[0mstacklevel\u001b[0m\u001b[0;34m=\u001b[0m\u001b[0;36m3\u001b[0m\u001b[0;34m)\u001b[0m\u001b[0;34m\u001b[0m\u001b[0;34m\u001b[0m\u001b[0m\n\u001b[1;32m    680\u001b[0m \u001b[0;34m\u001b[0m\u001b[0m\n\u001b[0;32m--> 681\u001b[0;31m         \u001b[0mself\u001b[0m\u001b[0;34m.\u001b[0m\u001b[0m_validate_specification\u001b[0m\u001b[0;34m(\u001b[0m\u001b[0;34m)\u001b[0m\u001b[0;34m\u001b[0m\u001b[0;34m\u001b[0m\u001b[0m\n\u001b[0m\u001b[1;32m    682\u001b[0m \u001b[0;34m\u001b[0m\u001b[0m\n\u001b[1;32m    683\u001b[0m         \u001b[0mcross_col\u001b[0m \u001b[0;34m=\u001b[0m \u001b[0;32mNone\u001b[0m\u001b[0;34m\u001b[0m\u001b[0;34m\u001b[0m\u001b[0m\n",
      "\u001b[0;32m/usr/local/lib/python3.8/dist-packages/pandas/core/reshape/merge.py\u001b[0m in \u001b[0;36m_validate_specification\u001b[0;34m(self)\u001b[0m\n\u001b[1;32m   1344\u001b[0m                 \u001b[0mcommon_cols\u001b[0m \u001b[0;34m=\u001b[0m \u001b[0mleft_cols\u001b[0m\u001b[0;34m.\u001b[0m\u001b[0mintersection\u001b[0m\u001b[0;34m(\u001b[0m\u001b[0mright_cols\u001b[0m\u001b[0;34m)\u001b[0m\u001b[0;34m\u001b[0m\u001b[0;34m\u001b[0m\u001b[0m\n\u001b[1;32m   1345\u001b[0m                 \u001b[0;32mif\u001b[0m \u001b[0mlen\u001b[0m\u001b[0;34m(\u001b[0m\u001b[0mcommon_cols\u001b[0m\u001b[0;34m)\u001b[0m \u001b[0;34m==\u001b[0m \u001b[0;36m0\u001b[0m\u001b[0;34m:\u001b[0m\u001b[0;34m\u001b[0m\u001b[0;34m\u001b[0m\u001b[0m\n\u001b[0;32m-> 1346\u001b[0;31m                     raise MergeError(\n\u001b[0m\u001b[1;32m   1347\u001b[0m                         \u001b[0;34m\"No common columns to perform merge on. \"\u001b[0m\u001b[0;34m\u001b[0m\u001b[0;34m\u001b[0m\u001b[0m\n\u001b[1;32m   1348\u001b[0m                         \u001b[0;34mf\"Merge options: left_on={self.left_on}, \"\u001b[0m\u001b[0;34m\u001b[0m\u001b[0;34m\u001b[0m\u001b[0m\n",
      "\u001b[0;31mMergeError\u001b[0m: No common columns to perform merge on. Merge options: left_on=None, right_on=None, left_index=False, right_index=False"
     ]
    }
   ],
   "source": [
    "df=pd.merge(data,data_2)"
   ]
  },
  {
   "cell_type": "code",
   "execution_count": 48,
   "metadata": {
    "colab": {
     "base_uri": "https://localhost:8080/"
    },
    "executionInfo": {
     "elapsed": 698,
     "status": "ok",
     "timestamp": 1673434030650,
     "user": {
      "displayName": "Prashant Domadiya",
      "userId": "11474482552073544290"
     },
     "user_tz": -330
    },
    "id": "DoShcg-015d5",
    "outputId": "33897447-2fb1-4007-d62e-2f3232785d44"
   },
   "outputs": [
    {
     "name": "stdout",
     "output_type": "stream",
     "text": [
      "Index(['DATE', 'STATE', 'SECTOR', 'MODE', 'INSTALLED_CAPACITY'], dtype='object')\n",
      "Index(['Start Month _ Year', 'End Month _ Year', 'State', 'DISCOM',\n",
      "       'Input Energy (MU)', 'Billed Energy (MU)', 'Billed Amount (Rs crore)',\n",
      "       'Collected Amount (Rs crore)', 'AT&C Losses (%)'],\n",
      "      dtype='object')\n"
     ]
    }
   ],
   "source": [
    "print(data.columns)\n",
    "print(data_2.columns)"
   ]
  },
  {
   "cell_type": "markdown",
   "metadata": {
    "id": "7gAgFxO4cPd1"
   },
   "source": []
  },
  {
   "cell_type": "code",
   "execution_count": 49,
   "metadata": {
    "colab": {
     "base_uri": "https://localhost:8080/"
    },
    "executionInfo": {
     "elapsed": 469,
     "status": "ok",
     "timestamp": 1673434083391,
     "user": {
      "displayName": "Prashant Domadiya",
      "userId": "11474482552073544290"
     },
     "user_tz": -330
    },
    "id": "FfXKWMco15d5",
    "outputId": "a7e80465-94f2-4833-f7e8-e65e8314b7d3",
    "scrolled": true
   },
   "outputs": [
    {
     "name": "stdout",
     "output_type": "stream",
     "text": [
      "        DATE           STATE          SECTOR     MODE  INSTALLED_CAPACITY  \\\n",
      "0    8012022  Andhra Pradesh    STATE SECTOR  Thermal             5245.40   \n",
      "1    8012022  Andhra Pradesh    STATE SECTOR  Thermal             5245.40   \n",
      "2    8012022  Andhra Pradesh    STATE SECTOR  Nuclear                0.00   \n",
      "3    8012022  Andhra Pradesh    STATE SECTOR  Nuclear                0.00   \n",
      "4    8012022  Andhra Pradesh    STATE SECTOR    Hydro             1610.00   \n",
      "..       ...             ...             ...      ...                 ...   \n",
      "554  8012022     West Bengal      PVT SECTOR    Hydro                0.00   \n",
      "555  8012022     West Bengal      PVT SECTOR      RES              462.95   \n",
      "556  8012022     West Bengal  CENTRAL SECTOR  Thermal             6850.00   \n",
      "557  8012022     West Bengal  CENTRAL SECTOR  Nuclear                0.00   \n",
      "558  8012022     West Bengal  CENTRAL SECTOR    Hydro              355.20   \n",
      "\n",
      "    Start Month _ Year End Month _ Year           State   DISCOM  \\\n",
      "0               Apr-15           Mar-16  Andhra Pradesh  APEPDCL   \n",
      "1               Apr-15           Mar-16  Andhra Pradesh  APSPDCL   \n",
      "2               Apr-15           Mar-16  Andhra Pradesh  APEPDCL   \n",
      "3               Apr-15           Mar-16  Andhra Pradesh  APSPDCL   \n",
      "4               Apr-15           Mar-16  Andhra Pradesh  APEPDCL   \n",
      "..                 ...              ...             ...      ...   \n",
      "554             Apr-15           Mar-16     West Bengal  WBSEDCL   \n",
      "555             Apr-15           Mar-16     West Bengal  WBSEDCL   \n",
      "556             Apr-15           Mar-16     West Bengal  WBSEDCL   \n",
      "557             Apr-15           Mar-16     West Bengal  WBSEDCL   \n",
      "558             Apr-15           Mar-16     West Bengal  WBSEDCL   \n",
      "\n",
      "    Input Energy (MU) Billed Energy (MU) Billed Amount (Rs crore)  \\\n",
      "0              16,434             15,534                    7,381   \n",
      "1              33,291             28,710                   11,906   \n",
      "2              16,434             15,534                    7,381   \n",
      "3              33,291             28,710                   11,906   \n",
      "4              16,434             15,534                    7,381   \n",
      "..                ...                ...                      ...   \n",
      "554            33,921             22,991                   14,932   \n",
      "555            33,921             22,991                   14,932   \n",
      "556            33,921             22,991                   14,932   \n",
      "557            33,921             22,991                   14,932   \n",
      "558            33,921             22,991                   14,932   \n",
      "\n",
      "    Collected Amount (Rs crore)  AT&C Losses (%)  \n",
      "0                         7,297             6.56  \n",
      "1                        11,455            17.02  \n",
      "2                         7,297             6.56  \n",
      "3                        11,455            17.02  \n",
      "4                         7,297             6.56  \n",
      "..                          ...              ...  \n",
      "554                      15,179            31.10  \n",
      "555                      15,179            31.10  \n",
      "556                      15,179            31.10  \n",
      "557                      15,179            31.10  \n",
      "558                      15,179            31.10  \n",
      "\n",
      "[559 rows x 14 columns]\n"
     ]
    }
   ],
   "source": [
    "df=pd.merge(data,data_2,left_on=\"STATE\", right_on=\"State\")\n",
    "print(df)\n",
    "\n",
    "filepath=\"test.csv\"\n",
    "df.to_csv(filepath)"
   ]
  },
  {
   "cell_type": "code",
   "execution_count": 50,
   "metadata": {
    "colab": {
     "base_uri": "https://localhost:8080/"
    },
    "executionInfo": {
     "elapsed": 402,
     "status": "ok",
     "timestamp": 1673434283198,
     "user": {
      "displayName": "Prashant Domadiya",
      "userId": "11474482552073544290"
     },
     "user_tz": -330
    },
    "id": "6uuTKNar15d6",
    "outputId": "6206730a-b008-49d2-c1e0-6335f0a95bec"
   },
   "outputs": [
    {
     "name": "stdout",
     "output_type": "stream",
     "text": [
      "        date           state          sector     mode  installed_capacity  \\\n",
      "0    8012022  Andhra Pradesh    STATE SECTOR  Thermal             5245.40   \n",
      "1    8012022  Andhra Pradesh    STATE SECTOR  Thermal             5245.40   \n",
      "2    8012022  Andhra Pradesh    STATE SECTOR  Nuclear                0.00   \n",
      "3    8012022  Andhra Pradesh    STATE SECTOR  Nuclear                0.00   \n",
      "4    8012022  Andhra Pradesh    STATE SECTOR    Hydro             1610.00   \n",
      "..       ...             ...             ...      ...                 ...   \n",
      "554  8012022     West Bengal      PVT SECTOR    Hydro                0.00   \n",
      "555  8012022     West Bengal      PVT SECTOR      RES              462.95   \n",
      "556  8012022     West Bengal  CENTRAL SECTOR  Thermal             6850.00   \n",
      "557  8012022     West Bengal  CENTRAL SECTOR  Nuclear                0.00   \n",
      "558  8012022     West Bengal  CENTRAL SECTOR    Hydro              355.20   \n",
      "\n",
      "    start month _ year end month _ year   discom input energy (mu)  \\\n",
      "0               Apr-15           Mar-16  APEPDCL            16,434   \n",
      "1               Apr-15           Mar-16  APSPDCL            33,291   \n",
      "2               Apr-15           Mar-16  APEPDCL            16,434   \n",
      "3               Apr-15           Mar-16  APSPDCL            33,291   \n",
      "4               Apr-15           Mar-16  APEPDCL            16,434   \n",
      "..                 ...              ...      ...               ...   \n",
      "554             Apr-15           Mar-16  WBSEDCL            33,921   \n",
      "555             Apr-15           Mar-16  WBSEDCL            33,921   \n",
      "556             Apr-15           Mar-16  WBSEDCL            33,921   \n",
      "557             Apr-15           Mar-16  WBSEDCL            33,921   \n",
      "558             Apr-15           Mar-16  WBSEDCL            33,921   \n",
      "\n",
      "    billed energy (mu) billed amount (rs crore) collected amount (rs crore)  \\\n",
      "0               15,534                    7,381                       7,297   \n",
      "1               28,710                   11,906                      11,455   \n",
      "2               15,534                    7,381                       7,297   \n",
      "3               28,710                   11,906                      11,455   \n",
      "4               15,534                    7,381                       7,297   \n",
      "..                 ...                      ...                         ...   \n",
      "554             22,991                   14,932                      15,179   \n",
      "555             22,991                   14,932                      15,179   \n",
      "556             22,991                   14,932                      15,179   \n",
      "557             22,991                   14,932                      15,179   \n",
      "558             22,991                   14,932                      15,179   \n",
      "\n",
      "     at&c losses (%)  \n",
      "0               6.56  \n",
      "1              17.02  \n",
      "2               6.56  \n",
      "3              17.02  \n",
      "4               6.56  \n",
      "..               ...  \n",
      "554            31.10  \n",
      "555            31.10  \n",
      "556            31.10  \n",
      "557            31.10  \n",
      "558            31.10  \n",
      "\n",
      "[559 rows x 13 columns]\n"
     ]
    }
   ],
   "source": [
    "# try by changing columns names\n",
    "data.columns=[ nm.lower() for nm in data.columns]\n",
    "data_2.columns=[ nm.lower() for nm in data_2.columns]\n",
    "df=pd.merge(data,data_2)\n",
    "print(df)\n",
    "\n",
    "# Note: Explore chapter 3, title: Combing dataset of \"Python Data Science Handbook\""
   ]
  },
  {
   "cell_type": "code",
   "execution_count": 51,
   "metadata": {
    "colab": {
     "base_uri": "https://localhost:8080/"
    },
    "executionInfo": {
     "elapsed": 420,
     "status": "ok",
     "timestamp": 1673434425212,
     "user": {
      "displayName": "Prashant Domadiya",
      "userId": "11474482552073544290"
     },
     "user_tz": -330
    },
    "id": "1q8ATsle15d6",
    "outputId": "3796f07a-65ee-4f2c-87be-2e4997b0f832"
   },
   "outputs": [
    {
     "name": "stdout",
     "output_type": "stream",
     "text": [
      "state\n",
      "Andaman & Nicobar Islands                      74.7880\n",
      "Andhra Pradesh                              27325.8540\n",
      "Arunachal Pradesh                            1257.3351\n",
      "Assam                                        1825.0350\n",
      "Bihar                                        8346.9500\n",
      "Chandigarh                                     53.4500\n",
      "Chhatisgarh                                 24660.5800\n",
      "Dadra and Nagar Haveli and Daman and Diu       46.1800\n",
      "Delhi                                        2471.5200\n",
      "Goa                                            66.8800\n",
      "Gujarat                                     41520.7700\n",
      "Haryana                                      6848.4700\n",
      "Himachal Pradesh                            11095.7600\n",
      "Jammu and Kashmir                            3726.5500\n",
      "Jharkhand                                    4556.4200\n",
      "Karnataka                                   29861.6000\n",
      "Kerala                                       3184.4500\n",
      "Ladakh                                        136.4400\n",
      "Lakshadweep                                     3.2700\n",
      "Madhya Pradesh                              29606.3800\n",
      "Maharashtra                                 42076.2700\n",
      "Manipur                                       158.6500\n",
      "Meghalaya                                     372.4600\n",
      "Mizoram                                       104.3500\n",
      "Nagaland                                      108.7100\n",
      "Odisha                                      12279.2900\n",
      "Puducherry                                     44.5500\n",
      "Punjab                                       8542.4100\n",
      "Rajasthan                                   27640.8400\n",
      "Sikkim                                       2338.7600\n",
      "Tamil Nadu                                  35412.3010\n",
      "Telangana                                   14579.8400\n",
      "Tripura                                      1130.4800\n",
      "Uttar Pradesh                               30516.8600\n",
      "Uttarakhand                                  5211.9100\n",
      "West Bengal                                 16203.1000\n",
      "Name: installed_capacity, dtype: float64\n"
     ]
    }
   ],
   "source": [
    "#print(data.groupby(\"sector\").sum())\n",
    "#print(data.groupby(\"state\").sum())\n",
    "#print(data.groupby(\"mode\").sum())\n",
    "data_df=data.groupby(\"state\").sum()[\"installed_capacity\"]\n",
    "print(data_df)"
   ]
  },
  {
   "cell_type": "markdown",
   "metadata": {
    "id": "QsxbtDyl15d6"
   },
   "source": [
    "Aggregation             Description\n",
    "count()               Total number of items\n",
    "first() , last()      First and last item\n",
    "mean() , median()     Mean and median\n",
    "min() , max()         Minimum and maximum\n",
    "std() , var()         Standard deviation and variance\n",
    "mad()                 Mean absolute deviation\n",
    "prod()                Product of all items\n",
    "sum()                 Sum of all items"
   ]
  },
  {
   "cell_type": "code",
   "execution_count": 52,
   "metadata": {
    "colab": {
     "base_uri": "https://localhost:8080/"
    },
    "executionInfo": {
     "elapsed": 390,
     "status": "ok",
     "timestamp": 1673434529729,
     "user": {
      "displayName": "Prashant Domadiya",
      "userId": "11474482552073544290"
     },
     "user_tz": -330
    },
    "id": "Eyi64CX_15d7",
    "outputId": "dbd59089-52de-4a4e-bd12-64db49a07d98"
   },
   "outputs": [
    {
     "data": {
      "text/plain": [
       "state\n",
       "Andaman & Nicobar Islands                   12\n",
       "Andhra Pradesh                              12\n",
       "Arunachal Pradesh                           12\n",
       "Assam                                       12\n",
       "Bihar                                       12\n",
       "Chandigarh                                  12\n",
       "Chhatisgarh                                 12\n",
       "Dadra and Nagar Haveli and Daman and Diu    12\n",
       "Delhi                                        8\n",
       "Goa                                         12\n",
       "Gujarat                                     12\n",
       "Haryana                                     12\n",
       "Himachal Pradesh                            12\n",
       "Jammu and Kashmir                           12\n",
       "Jharkhand                                   12\n",
       "Karnataka                                   12\n",
       "Kerala                                      12\n",
       "Ladakh                                      12\n",
       "Lakshadweep                                 12\n",
       "Madhya Pradesh                              12\n",
       "Maharashtra                                 12\n",
       "Manipur                                     12\n",
       "Meghalaya                                    8\n",
       "Mizoram                                     12\n",
       "Nagaland                                    12\n",
       "Odisha                                      12\n",
       "Puducherry                                  12\n",
       "Punjab                                      12\n",
       "Rajasthan                                   12\n",
       "Sikkim                                      12\n",
       "Tamil Nadu                                  12\n",
       "Telangana                                   12\n",
       "Tripura                                     12\n",
       "Uttar Pradesh                               12\n",
       "Uttarakhand                                 12\n",
       "West Bengal                                 11\n",
       "Name: mode, dtype: int64"
      ]
     },
     "execution_count": 52,
     "metadata": {},
     "output_type": "execute_result"
    }
   ],
   "source": [
    "#data.groupby(\"MODE\")[\"INSTALLED_CAPACITY\"].mean()\n",
    "data.groupby(\"state\")[\"mode\"].count()"
   ]
  },
  {
   "cell_type": "code",
   "execution_count": 53,
   "metadata": {
    "colab": {
     "base_uri": "https://localhost:8080/",
     "height": 1000
    },
    "collapsed": true,
    "executionInfo": {
     "elapsed": 8,
     "status": "ok",
     "timestamp": 1673434628643,
     "user": {
      "displayName": "Prashant Domadiya",
      "userId": "11474482552073544290"
     },
     "user_tz": -330
    },
    "id": "QIcRDQUC15d7",
    "outputId": "625266d5-f19a-4f08-f08f-56f75a3e8d27"
   },
   "outputs": [
    {
     "name": "stdout",
     "output_type": "stream",
     "text": [
      "Index(['start month _ year', 'end month _ year', 'state', 'discom',\n",
      "       'input energy (mu)', 'billed energy (mu)', 'billed amount (rs crore)',\n",
      "       'collected amount (rs crore)', 'at&c losses (%)'],\n",
      "      dtype='object')\n"
     ]
    },
    {
     "data": {
      "text/html": [
       "\n",
       "  <div id=\"df-b3e59fc9-223e-4f57-b359-d1ff343debc8\">\n",
       "    <div class=\"colab-df-container\">\n",
       "      <div>\n",
       "<style scoped>\n",
       "    .dataframe tbody tr th:only-of-type {\n",
       "        vertical-align: middle;\n",
       "    }\n",
       "\n",
       "    .dataframe tbody tr th {\n",
       "        vertical-align: top;\n",
       "    }\n",
       "\n",
       "    .dataframe thead th {\n",
       "        text-align: right;\n",
       "    }\n",
       "</style>\n",
       "<table border=\"1\" class=\"dataframe\">\n",
       "  <thead>\n",
       "    <tr style=\"text-align: right;\">\n",
       "      <th></th>\n",
       "      <th>at&amp;c losses (%)</th>\n",
       "    </tr>\n",
       "    <tr>\n",
       "      <th>state</th>\n",
       "      <th></th>\n",
       "    </tr>\n",
       "  </thead>\n",
       "  <tbody>\n",
       "    <tr>\n",
       "      <th>Andhra Pradesh</th>\n",
       "      <td>23.58</td>\n",
       "    </tr>\n",
       "    <tr>\n",
       "      <th>Arunachal Pradesh</th>\n",
       "      <td>57.74</td>\n",
       "    </tr>\n",
       "    <tr>\n",
       "      <th>Assam</th>\n",
       "      <td>25.02</td>\n",
       "    </tr>\n",
       "    <tr>\n",
       "      <th>Bihar</th>\n",
       "      <td>85.48</td>\n",
       "    </tr>\n",
       "    <tr>\n",
       "      <th>Chattisgarh</th>\n",
       "      <td>26.69</td>\n",
       "    </tr>\n",
       "    <tr>\n",
       "      <th>Delhi</th>\n",
       "      <td>37.58</td>\n",
       "    </tr>\n",
       "    <tr>\n",
       "      <th>Goa</th>\n",
       "      <td>16.81</td>\n",
       "    </tr>\n",
       "    <tr>\n",
       "      <th>Gujarat</th>\n",
       "      <td>57.86</td>\n",
       "    </tr>\n",
       "    <tr>\n",
       "      <th>Haryana</th>\n",
       "      <td>65.26</td>\n",
       "    </tr>\n",
       "    <tr>\n",
       "      <th>Himachal Pradesh</th>\n",
       "      <td>12.98</td>\n",
       "    </tr>\n",
       "    <tr>\n",
       "      <th>Jammu &amp; Kashmir</th>\n",
       "      <td>58.75</td>\n",
       "    </tr>\n",
       "    <tr>\n",
       "      <th>Jharkhand</th>\n",
       "      <td>37.84</td>\n",
       "    </tr>\n",
       "    <tr>\n",
       "      <th>Karnataka</th>\n",
       "      <td>70.66</td>\n",
       "    </tr>\n",
       "    <tr>\n",
       "      <th>Kerala</th>\n",
       "      <td>16.14</td>\n",
       "    </tr>\n",
       "    <tr>\n",
       "      <th>Madhya Pradesh</th>\n",
       "      <td>90.05</td>\n",
       "    </tr>\n",
       "    <tr>\n",
       "      <th>Maharashtra</th>\n",
       "      <td>23.12</td>\n",
       "    </tr>\n",
       "    <tr>\n",
       "      <th>Manipur</th>\n",
       "      <td>50.35</td>\n",
       "    </tr>\n",
       "    <tr>\n",
       "      <th>Meghalaya</th>\n",
       "      <td>46.34</td>\n",
       "    </tr>\n",
       "    <tr>\n",
       "      <th>Mizoram</th>\n",
       "      <td>32.96</td>\n",
       "    </tr>\n",
       "    <tr>\n",
       "      <th>Nagaland</th>\n",
       "      <td>75.56</td>\n",
       "    </tr>\n",
       "    <tr>\n",
       "      <th>Odisha</th>\n",
       "      <td>158.70</td>\n",
       "    </tr>\n",
       "    <tr>\n",
       "      <th>Puducherry</th>\n",
       "      <td>21.95</td>\n",
       "    </tr>\n",
       "    <tr>\n",
       "      <th>Punjab</th>\n",
       "      <td>17.26</td>\n",
       "    </tr>\n",
       "    <tr>\n",
       "      <th>Rajasthan</th>\n",
       "      <td>81.60</td>\n",
       "    </tr>\n",
       "    <tr>\n",
       "      <th>Sikkim</th>\n",
       "      <td>36.68</td>\n",
       "    </tr>\n",
       "    <tr>\n",
       "      <th>Tamil Nadu</th>\n",
       "      <td>20.39</td>\n",
       "    </tr>\n",
       "    <tr>\n",
       "      <th>Telangana</th>\n",
       "      <td>29.02</td>\n",
       "    </tr>\n",
       "    <tr>\n",
       "      <th>Tripura</th>\n",
       "      <td>35.77</td>\n",
       "    </tr>\n",
       "    <tr>\n",
       "      <th>Uttar Pradesh</th>\n",
       "      <td>159.20</td>\n",
       "    </tr>\n",
       "    <tr>\n",
       "      <th>Uttarakhand</th>\n",
       "      <td>12.25</td>\n",
       "    </tr>\n",
       "    <tr>\n",
       "      <th>West Bengal</th>\n",
       "      <td>31.10</td>\n",
       "    </tr>\n",
       "  </tbody>\n",
       "</table>\n",
       "</div>\n",
       "      <button class=\"colab-df-convert\" onclick=\"convertToInteractive('df-b3e59fc9-223e-4f57-b359-d1ff343debc8')\"\n",
       "              title=\"Convert this dataframe to an interactive table.\"\n",
       "              style=\"display:none;\">\n",
       "        \n",
       "  <svg xmlns=\"http://www.w3.org/2000/svg\" height=\"24px\"viewBox=\"0 0 24 24\"\n",
       "       width=\"24px\">\n",
       "    <path d=\"M0 0h24v24H0V0z\" fill=\"none\"/>\n",
       "    <path d=\"M18.56 5.44l.94 2.06.94-2.06 2.06-.94-2.06-.94-.94-2.06-.94 2.06-2.06.94zm-11 1L8.5 8.5l.94-2.06 2.06-.94-2.06-.94L8.5 2.5l-.94 2.06-2.06.94zm10 10l.94 2.06.94-2.06 2.06-.94-2.06-.94-.94-2.06-.94 2.06-2.06.94z\"/><path d=\"M17.41 7.96l-1.37-1.37c-.4-.4-.92-.59-1.43-.59-.52 0-1.04.2-1.43.59L10.3 9.45l-7.72 7.72c-.78.78-.78 2.05 0 2.83L4 21.41c.39.39.9.59 1.41.59.51 0 1.02-.2 1.41-.59l7.78-7.78 2.81-2.81c.8-.78.8-2.07 0-2.86zM5.41 20L4 18.59l7.72-7.72 1.47 1.35L5.41 20z\"/>\n",
       "  </svg>\n",
       "      </button>\n",
       "      \n",
       "  <style>\n",
       "    .colab-df-container {\n",
       "      display:flex;\n",
       "      flex-wrap:wrap;\n",
       "      gap: 12px;\n",
       "    }\n",
       "\n",
       "    .colab-df-convert {\n",
       "      background-color: #E8F0FE;\n",
       "      border: none;\n",
       "      border-radius: 50%;\n",
       "      cursor: pointer;\n",
       "      display: none;\n",
       "      fill: #1967D2;\n",
       "      height: 32px;\n",
       "      padding: 0 0 0 0;\n",
       "      width: 32px;\n",
       "    }\n",
       "\n",
       "    .colab-df-convert:hover {\n",
       "      background-color: #E2EBFA;\n",
       "      box-shadow: 0px 1px 2px rgba(60, 64, 67, 0.3), 0px 1px 3px 1px rgba(60, 64, 67, 0.15);\n",
       "      fill: #174EA6;\n",
       "    }\n",
       "\n",
       "    [theme=dark] .colab-df-convert {\n",
       "      background-color: #3B4455;\n",
       "      fill: #D2E3FC;\n",
       "    }\n",
       "\n",
       "    [theme=dark] .colab-df-convert:hover {\n",
       "      background-color: #434B5C;\n",
       "      box-shadow: 0px 1px 3px 1px rgba(0, 0, 0, 0.15);\n",
       "      filter: drop-shadow(0px 1px 2px rgba(0, 0, 0, 0.3));\n",
       "      fill: #FFFFFF;\n",
       "    }\n",
       "  </style>\n",
       "\n",
       "      <script>\n",
       "        const buttonEl =\n",
       "          document.querySelector('#df-b3e59fc9-223e-4f57-b359-d1ff343debc8 button.colab-df-convert');\n",
       "        buttonEl.style.display =\n",
       "          google.colab.kernel.accessAllowed ? 'block' : 'none';\n",
       "\n",
       "        async function convertToInteractive(key) {\n",
       "          const element = document.querySelector('#df-b3e59fc9-223e-4f57-b359-d1ff343debc8');\n",
       "          const dataTable =\n",
       "            await google.colab.kernel.invokeFunction('convertToInteractive',\n",
       "                                                     [key], {});\n",
       "          if (!dataTable) return;\n",
       "\n",
       "          const docLinkHtml = 'Like what you see? Visit the ' +\n",
       "            '<a target=\"_blank\" href=https://colab.research.google.com/notebooks/data_table.ipynb>data table notebook</a>'\n",
       "            + ' to learn more about interactive tables.';\n",
       "          element.innerHTML = '';\n",
       "          dataTable['output_type'] = 'display_data';\n",
       "          await google.colab.output.renderOutput(dataTable, element);\n",
       "          const docLink = document.createElement('div');\n",
       "          docLink.innerHTML = docLinkHtml;\n",
       "          element.appendChild(docLink);\n",
       "        }\n",
       "      </script>\n",
       "    </div>\n",
       "  </div>\n",
       "  "
      ],
      "text/plain": [
       "                   at&c losses (%)\n",
       "state                             \n",
       "Andhra Pradesh               23.58\n",
       "Arunachal Pradesh            57.74\n",
       "Assam                        25.02\n",
       "Bihar                        85.48\n",
       "Chattisgarh                  26.69\n",
       "Delhi                        37.58\n",
       "Goa                          16.81\n",
       "Gujarat                      57.86\n",
       "Haryana                      65.26\n",
       "Himachal Pradesh             12.98\n",
       "Jammu & Kashmir              58.75\n",
       "Jharkhand                    37.84\n",
       "Karnataka                    70.66\n",
       "Kerala                       16.14\n",
       "Madhya Pradesh               90.05\n",
       "Maharashtra                  23.12\n",
       "Manipur                      50.35\n",
       "Meghalaya                    46.34\n",
       "Mizoram                      32.96\n",
       "Nagaland                     75.56\n",
       "Odisha                      158.70\n",
       "Puducherry                   21.95\n",
       "Punjab                       17.26\n",
       "Rajasthan                    81.60\n",
       "Sikkim                       36.68\n",
       "Tamil Nadu                   20.39\n",
       "Telangana                    29.02\n",
       "Tripura                      35.77\n",
       "Uttar Pradesh               159.20\n",
       "Uttarakhand                  12.25\n",
       "West Bengal                  31.10"
      ]
     },
     "execution_count": 53,
     "metadata": {},
     "output_type": "execute_result"
    }
   ],
   "source": [
    "# pivot table\n",
    "print(data_2.columns)\n",
    "data_2.groupby(\"state\")[[\"at&c losses (%)\"]].sum()"
   ]
  },
  {
   "cell_type": "code",
   "execution_count": 54,
   "metadata": {
    "colab": {
     "base_uri": "https://localhost:8080/",
     "height": 1000
    },
    "collapsed": true,
    "executionInfo": {
     "elapsed": 407,
     "status": "ok",
     "timestamp": 1673434693077,
     "user": {
      "displayName": "Prashant Domadiya",
      "userId": "11474482552073544290"
     },
     "user_tz": -330
    },
    "id": "FqrPCjMC15d8",
    "outputId": "77842b7c-6d60-4d82-cf79-fa39e1a8622c"
   },
   "outputs": [
    {
     "data": {
      "text/html": [
       "\n",
       "  <div id=\"df-317e68c2-65ba-420d-9f01-6b20f2ef65c7\">\n",
       "    <div class=\"colab-df-container\">\n",
       "      <div>\n",
       "<style scoped>\n",
       "    .dataframe tbody tr th:only-of-type {\n",
       "        vertical-align: middle;\n",
       "    }\n",
       "\n",
       "    .dataframe tbody tr th {\n",
       "        vertical-align: top;\n",
       "    }\n",
       "\n",
       "    .dataframe thead th {\n",
       "        text-align: right;\n",
       "    }\n",
       "</style>\n",
       "<table border=\"1\" class=\"dataframe\">\n",
       "  <thead>\n",
       "    <tr style=\"text-align: right;\">\n",
       "      <th></th>\n",
       "      <th>at&amp;c losses (%)</th>\n",
       "    </tr>\n",
       "    <tr>\n",
       "      <th>state</th>\n",
       "      <th></th>\n",
       "    </tr>\n",
       "  </thead>\n",
       "  <tbody>\n",
       "    <tr>\n",
       "      <th>Andhra Pradesh</th>\n",
       "      <td>11.790000</td>\n",
       "    </tr>\n",
       "    <tr>\n",
       "      <th>Arunachal Pradesh</th>\n",
       "      <td>57.740000</td>\n",
       "    </tr>\n",
       "    <tr>\n",
       "      <th>Assam</th>\n",
       "      <td>25.020000</td>\n",
       "    </tr>\n",
       "    <tr>\n",
       "      <th>Bihar</th>\n",
       "      <td>42.740000</td>\n",
       "    </tr>\n",
       "    <tr>\n",
       "      <th>Chattisgarh</th>\n",
       "      <td>26.690000</td>\n",
       "    </tr>\n",
       "    <tr>\n",
       "      <th>Delhi</th>\n",
       "      <td>12.526667</td>\n",
       "    </tr>\n",
       "    <tr>\n",
       "      <th>Goa</th>\n",
       "      <td>16.810000</td>\n",
       "    </tr>\n",
       "    <tr>\n",
       "      <th>Gujarat</th>\n",
       "      <td>14.465000</td>\n",
       "    </tr>\n",
       "    <tr>\n",
       "      <th>Haryana</th>\n",
       "      <td>32.630000</td>\n",
       "    </tr>\n",
       "    <tr>\n",
       "      <th>Himachal Pradesh</th>\n",
       "      <td>12.980000</td>\n",
       "    </tr>\n",
       "    <tr>\n",
       "      <th>Jammu &amp; Kashmir</th>\n",
       "      <td>58.750000</td>\n",
       "    </tr>\n",
       "    <tr>\n",
       "      <th>Jharkhand</th>\n",
       "      <td>37.840000</td>\n",
       "    </tr>\n",
       "    <tr>\n",
       "      <th>Karnataka</th>\n",
       "      <td>14.132000</td>\n",
       "    </tr>\n",
       "    <tr>\n",
       "      <th>Kerala</th>\n",
       "      <td>16.140000</td>\n",
       "    </tr>\n",
       "    <tr>\n",
       "      <th>Madhya Pradesh</th>\n",
       "      <td>30.016667</td>\n",
       "    </tr>\n",
       "    <tr>\n",
       "      <th>Maharashtra</th>\n",
       "      <td>23.120000</td>\n",
       "    </tr>\n",
       "    <tr>\n",
       "      <th>Manipur</th>\n",
       "      <td>50.350000</td>\n",
       "    </tr>\n",
       "    <tr>\n",
       "      <th>Meghalaya</th>\n",
       "      <td>46.340000</td>\n",
       "    </tr>\n",
       "    <tr>\n",
       "      <th>Mizoram</th>\n",
       "      <td>32.960000</td>\n",
       "    </tr>\n",
       "    <tr>\n",
       "      <th>Nagaland</th>\n",
       "      <td>75.560000</td>\n",
       "    </tr>\n",
       "    <tr>\n",
       "      <th>Odisha</th>\n",
       "      <td>39.675000</td>\n",
       "    </tr>\n",
       "    <tr>\n",
       "      <th>Puducherry</th>\n",
       "      <td>21.950000</td>\n",
       "    </tr>\n",
       "    <tr>\n",
       "      <th>Punjab</th>\n",
       "      <td>17.260000</td>\n",
       "    </tr>\n",
       "    <tr>\n",
       "      <th>Rajasthan</th>\n",
       "      <td>27.200000</td>\n",
       "    </tr>\n",
       "    <tr>\n",
       "      <th>Sikkim</th>\n",
       "      <td>36.680000</td>\n",
       "    </tr>\n",
       "    <tr>\n",
       "      <th>Tamil Nadu</th>\n",
       "      <td>20.390000</td>\n",
       "    </tr>\n",
       "    <tr>\n",
       "      <th>Telangana</th>\n",
       "      <td>14.510000</td>\n",
       "    </tr>\n",
       "    <tr>\n",
       "      <th>Tripura</th>\n",
       "      <td>35.770000</td>\n",
       "    </tr>\n",
       "    <tr>\n",
       "      <th>Uttar Pradesh</th>\n",
       "      <td>31.840000</td>\n",
       "    </tr>\n",
       "    <tr>\n",
       "      <th>Uttarakhand</th>\n",
       "      <td>12.250000</td>\n",
       "    </tr>\n",
       "    <tr>\n",
       "      <th>West Bengal</th>\n",
       "      <td>31.100000</td>\n",
       "    </tr>\n",
       "  </tbody>\n",
       "</table>\n",
       "</div>\n",
       "      <button class=\"colab-df-convert\" onclick=\"convertToInteractive('df-317e68c2-65ba-420d-9f01-6b20f2ef65c7')\"\n",
       "              title=\"Convert this dataframe to an interactive table.\"\n",
       "              style=\"display:none;\">\n",
       "        \n",
       "  <svg xmlns=\"http://www.w3.org/2000/svg\" height=\"24px\"viewBox=\"0 0 24 24\"\n",
       "       width=\"24px\">\n",
       "    <path d=\"M0 0h24v24H0V0z\" fill=\"none\"/>\n",
       "    <path d=\"M18.56 5.44l.94 2.06.94-2.06 2.06-.94-2.06-.94-.94-2.06-.94 2.06-2.06.94zm-11 1L8.5 8.5l.94-2.06 2.06-.94-2.06-.94L8.5 2.5l-.94 2.06-2.06.94zm10 10l.94 2.06.94-2.06 2.06-.94-2.06-.94-.94-2.06-.94 2.06-2.06.94z\"/><path d=\"M17.41 7.96l-1.37-1.37c-.4-.4-.92-.59-1.43-.59-.52 0-1.04.2-1.43.59L10.3 9.45l-7.72 7.72c-.78.78-.78 2.05 0 2.83L4 21.41c.39.39.9.59 1.41.59.51 0 1.02-.2 1.41-.59l7.78-7.78 2.81-2.81c.8-.78.8-2.07 0-2.86zM5.41 20L4 18.59l7.72-7.72 1.47 1.35L5.41 20z\"/>\n",
       "  </svg>\n",
       "      </button>\n",
       "      \n",
       "  <style>\n",
       "    .colab-df-container {\n",
       "      display:flex;\n",
       "      flex-wrap:wrap;\n",
       "      gap: 12px;\n",
       "    }\n",
       "\n",
       "    .colab-df-convert {\n",
       "      background-color: #E8F0FE;\n",
       "      border: none;\n",
       "      border-radius: 50%;\n",
       "      cursor: pointer;\n",
       "      display: none;\n",
       "      fill: #1967D2;\n",
       "      height: 32px;\n",
       "      padding: 0 0 0 0;\n",
       "      width: 32px;\n",
       "    }\n",
       "\n",
       "    .colab-df-convert:hover {\n",
       "      background-color: #E2EBFA;\n",
       "      box-shadow: 0px 1px 2px rgba(60, 64, 67, 0.3), 0px 1px 3px 1px rgba(60, 64, 67, 0.15);\n",
       "      fill: #174EA6;\n",
       "    }\n",
       "\n",
       "    [theme=dark] .colab-df-convert {\n",
       "      background-color: #3B4455;\n",
       "      fill: #D2E3FC;\n",
       "    }\n",
       "\n",
       "    [theme=dark] .colab-df-convert:hover {\n",
       "      background-color: #434B5C;\n",
       "      box-shadow: 0px 1px 3px 1px rgba(0, 0, 0, 0.15);\n",
       "      filter: drop-shadow(0px 1px 2px rgba(0, 0, 0, 0.3));\n",
       "      fill: #FFFFFF;\n",
       "    }\n",
       "  </style>\n",
       "\n",
       "      <script>\n",
       "        const buttonEl =\n",
       "          document.querySelector('#df-317e68c2-65ba-420d-9f01-6b20f2ef65c7 button.colab-df-convert');\n",
       "        buttonEl.style.display =\n",
       "          google.colab.kernel.accessAllowed ? 'block' : 'none';\n",
       "\n",
       "        async function convertToInteractive(key) {\n",
       "          const element = document.querySelector('#df-317e68c2-65ba-420d-9f01-6b20f2ef65c7');\n",
       "          const dataTable =\n",
       "            await google.colab.kernel.invokeFunction('convertToInteractive',\n",
       "                                                     [key], {});\n",
       "          if (!dataTable) return;\n",
       "\n",
       "          const docLinkHtml = 'Like what you see? Visit the ' +\n",
       "            '<a target=\"_blank\" href=https://colab.research.google.com/notebooks/data_table.ipynb>data table notebook</a>'\n",
       "            + ' to learn more about interactive tables.';\n",
       "          element.innerHTML = '';\n",
       "          dataTable['output_type'] = 'display_data';\n",
       "          await google.colab.output.renderOutput(dataTable, element);\n",
       "          const docLink = document.createElement('div');\n",
       "          docLink.innerHTML = docLinkHtml;\n",
       "          element.appendChild(docLink);\n",
       "        }\n",
       "      </script>\n",
       "    </div>\n",
       "  </div>\n",
       "  "
      ],
      "text/plain": [
       "                   at&c losses (%)\n",
       "state                             \n",
       "Andhra Pradesh           11.790000\n",
       "Arunachal Pradesh        57.740000\n",
       "Assam                    25.020000\n",
       "Bihar                    42.740000\n",
       "Chattisgarh              26.690000\n",
       "Delhi                    12.526667\n",
       "Goa                      16.810000\n",
       "Gujarat                  14.465000\n",
       "Haryana                  32.630000\n",
       "Himachal Pradesh         12.980000\n",
       "Jammu & Kashmir          58.750000\n",
       "Jharkhand                37.840000\n",
       "Karnataka                14.132000\n",
       "Kerala                   16.140000\n",
       "Madhya Pradesh           30.016667\n",
       "Maharashtra              23.120000\n",
       "Manipur                  50.350000\n",
       "Meghalaya                46.340000\n",
       "Mizoram                  32.960000\n",
       "Nagaland                 75.560000\n",
       "Odisha                   39.675000\n",
       "Puducherry               21.950000\n",
       "Punjab                   17.260000\n",
       "Rajasthan                27.200000\n",
       "Sikkim                   36.680000\n",
       "Tamil Nadu               20.390000\n",
       "Telangana                14.510000\n",
       "Tripura                  35.770000\n",
       "Uttar Pradesh            31.840000\n",
       "Uttarakhand              12.250000\n",
       "West Bengal              31.100000"
      ]
     },
     "execution_count": 54,
     "metadata": {},
     "output_type": "execute_result"
    }
   ],
   "source": [
    "data_2.pivot_table(\"at&c losses (%)\", index='state')"
   ]
  },
  {
   "cell_type": "code",
   "execution_count": 55,
   "metadata": {
    "colab": {
     "base_uri": "https://localhost:8080/",
     "height": 455
    },
    "executionInfo": {
     "elapsed": 462,
     "status": "ok",
     "timestamp": 1673434859704,
     "user": {
      "displayName": "Prashant Domadiya",
      "userId": "11474482552073544290"
     },
     "user_tz": -330
    },
    "id": "34zPcZJ-15d8",
    "outputId": "3ba8eec1-fee7-47f0-cbc3-881aa41ac84f"
   },
   "outputs": [
    {
     "data": {
      "text/html": [
       "\n",
       "  <div id=\"df-788b915d-f104-4e34-ad8c-c92d7f2a8147\">\n",
       "    <div class=\"colab-df-container\">\n",
       "      <div>\n",
       "<style scoped>\n",
       "    .dataframe tbody tr th:only-of-type {\n",
       "        vertical-align: middle;\n",
       "    }\n",
       "\n",
       "    .dataframe tbody tr th {\n",
       "        vertical-align: top;\n",
       "    }\n",
       "\n",
       "    .dataframe thead th {\n",
       "        text-align: right;\n",
       "    }\n",
       "</style>\n",
       "<table border=\"1\" class=\"dataframe\">\n",
       "  <thead>\n",
       "    <tr style=\"text-align: right;\">\n",
       "      <th></th>\n",
       "      <th>mode</th>\n",
       "      <th>Hydro</th>\n",
       "      <th>Nuclear</th>\n",
       "      <th>RES</th>\n",
       "      <th>Thermal</th>\n",
       "    </tr>\n",
       "    <tr>\n",
       "      <th>state</th>\n",
       "      <th>sector</th>\n",
       "      <th></th>\n",
       "      <th></th>\n",
       "      <th></th>\n",
       "      <th></th>\n",
       "    </tr>\n",
       "  </thead>\n",
       "  <tbody>\n",
       "    <tr>\n",
       "      <th rowspan=\"3\" valign=\"top\">Andhra Pradesh</th>\n",
       "      <th>CENTRAL SECTOR</th>\n",
       "      <td>23.58</td>\n",
       "      <td>23.58</td>\n",
       "      <td>23.58</td>\n",
       "      <td>23.58</td>\n",
       "    </tr>\n",
       "    <tr>\n",
       "      <th>PVT SECTOR</th>\n",
       "      <td>23.58</td>\n",
       "      <td>23.58</td>\n",
       "      <td>23.58</td>\n",
       "      <td>23.58</td>\n",
       "    </tr>\n",
       "    <tr>\n",
       "      <th>STATE SECTOR</th>\n",
       "      <td>23.58</td>\n",
       "      <td>23.58</td>\n",
       "      <td>23.58</td>\n",
       "      <td>23.58</td>\n",
       "    </tr>\n",
       "    <tr>\n",
       "      <th rowspan=\"2\" valign=\"top\">Arunachal Pradesh</th>\n",
       "      <th>CENTRAL SECTOR</th>\n",
       "      <td>57.74</td>\n",
       "      <td>57.74</td>\n",
       "      <td>57.74</td>\n",
       "      <td>57.74</td>\n",
       "    </tr>\n",
       "    <tr>\n",
       "      <th>PVT SECTOR</th>\n",
       "      <td>57.74</td>\n",
       "      <td>57.74</td>\n",
       "      <td>57.74</td>\n",
       "      <td>57.74</td>\n",
       "    </tr>\n",
       "    <tr>\n",
       "      <th>...</th>\n",
       "      <th>...</th>\n",
       "      <td>...</td>\n",
       "      <td>...</td>\n",
       "      <td>...</td>\n",
       "      <td>...</td>\n",
       "    </tr>\n",
       "    <tr>\n",
       "      <th rowspan=\"2\" valign=\"top\">Uttarakhand</th>\n",
       "      <th>PVT SECTOR</th>\n",
       "      <td>12.25</td>\n",
       "      <td>12.25</td>\n",
       "      <td>12.25</td>\n",
       "      <td>12.25</td>\n",
       "    </tr>\n",
       "    <tr>\n",
       "      <th>STATE SECTOR</th>\n",
       "      <td>12.25</td>\n",
       "      <td>12.25</td>\n",
       "      <td>12.25</td>\n",
       "      <td>12.25</td>\n",
       "    </tr>\n",
       "    <tr>\n",
       "      <th rowspan=\"3\" valign=\"top\">West Bengal</th>\n",
       "      <th>CENTRAL SECTOR</th>\n",
       "      <td>31.10</td>\n",
       "      <td>31.10</td>\n",
       "      <td>NaN</td>\n",
       "      <td>31.10</td>\n",
       "    </tr>\n",
       "    <tr>\n",
       "      <th>PVT SECTOR</th>\n",
       "      <td>31.10</td>\n",
       "      <td>31.10</td>\n",
       "      <td>31.10</td>\n",
       "      <td>31.10</td>\n",
       "    </tr>\n",
       "    <tr>\n",
       "      <th>STATE SECTOR</th>\n",
       "      <td>31.10</td>\n",
       "      <td>31.10</td>\n",
       "      <td>31.10</td>\n",
       "      <td>31.10</td>\n",
       "    </tr>\n",
       "  </tbody>\n",
       "</table>\n",
       "<p>82 rows × 4 columns</p>\n",
       "</div>\n",
       "      <button class=\"colab-df-convert\" onclick=\"convertToInteractive('df-788b915d-f104-4e34-ad8c-c92d7f2a8147')\"\n",
       "              title=\"Convert this dataframe to an interactive table.\"\n",
       "              style=\"display:none;\">\n",
       "        \n",
       "  <svg xmlns=\"http://www.w3.org/2000/svg\" height=\"24px\"viewBox=\"0 0 24 24\"\n",
       "       width=\"24px\">\n",
       "    <path d=\"M0 0h24v24H0V0z\" fill=\"none\"/>\n",
       "    <path d=\"M18.56 5.44l.94 2.06.94-2.06 2.06-.94-2.06-.94-.94-2.06-.94 2.06-2.06.94zm-11 1L8.5 8.5l.94-2.06 2.06-.94-2.06-.94L8.5 2.5l-.94 2.06-2.06.94zm10 10l.94 2.06.94-2.06 2.06-.94-2.06-.94-.94-2.06-.94 2.06-2.06.94z\"/><path d=\"M17.41 7.96l-1.37-1.37c-.4-.4-.92-.59-1.43-.59-.52 0-1.04.2-1.43.59L10.3 9.45l-7.72 7.72c-.78.78-.78 2.05 0 2.83L4 21.41c.39.39.9.59 1.41.59.51 0 1.02-.2 1.41-.59l7.78-7.78 2.81-2.81c.8-.78.8-2.07 0-2.86zM5.41 20L4 18.59l7.72-7.72 1.47 1.35L5.41 20z\"/>\n",
       "  </svg>\n",
       "      </button>\n",
       "      \n",
       "  <style>\n",
       "    .colab-df-container {\n",
       "      display:flex;\n",
       "      flex-wrap:wrap;\n",
       "      gap: 12px;\n",
       "    }\n",
       "\n",
       "    .colab-df-convert {\n",
       "      background-color: #E8F0FE;\n",
       "      border: none;\n",
       "      border-radius: 50%;\n",
       "      cursor: pointer;\n",
       "      display: none;\n",
       "      fill: #1967D2;\n",
       "      height: 32px;\n",
       "      padding: 0 0 0 0;\n",
       "      width: 32px;\n",
       "    }\n",
       "\n",
       "    .colab-df-convert:hover {\n",
       "      background-color: #E2EBFA;\n",
       "      box-shadow: 0px 1px 2px rgba(60, 64, 67, 0.3), 0px 1px 3px 1px rgba(60, 64, 67, 0.15);\n",
       "      fill: #174EA6;\n",
       "    }\n",
       "\n",
       "    [theme=dark] .colab-df-convert {\n",
       "      background-color: #3B4455;\n",
       "      fill: #D2E3FC;\n",
       "    }\n",
       "\n",
       "    [theme=dark] .colab-df-convert:hover {\n",
       "      background-color: #434B5C;\n",
       "      box-shadow: 0px 1px 3px 1px rgba(0, 0, 0, 0.15);\n",
       "      filter: drop-shadow(0px 1px 2px rgba(0, 0, 0, 0.3));\n",
       "      fill: #FFFFFF;\n",
       "    }\n",
       "  </style>\n",
       "\n",
       "      <script>\n",
       "        const buttonEl =\n",
       "          document.querySelector('#df-788b915d-f104-4e34-ad8c-c92d7f2a8147 button.colab-df-convert');\n",
       "        buttonEl.style.display =\n",
       "          google.colab.kernel.accessAllowed ? 'block' : 'none';\n",
       "\n",
       "        async function convertToInteractive(key) {\n",
       "          const element = document.querySelector('#df-788b915d-f104-4e34-ad8c-c92d7f2a8147');\n",
       "          const dataTable =\n",
       "            await google.colab.kernel.invokeFunction('convertToInteractive',\n",
       "                                                     [key], {});\n",
       "          if (!dataTable) return;\n",
       "\n",
       "          const docLinkHtml = 'Like what you see? Visit the ' +\n",
       "            '<a target=\"_blank\" href=https://colab.research.google.com/notebooks/data_table.ipynb>data table notebook</a>'\n",
       "            + ' to learn more about interactive tables.';\n",
       "          element.innerHTML = '';\n",
       "          dataTable['output_type'] = 'display_data';\n",
       "          await google.colab.output.renderOutput(dataTable, element);\n",
       "          const docLink = document.createElement('div');\n",
       "          docLink.innerHTML = docLinkHtml;\n",
       "          element.appendChild(docLink);\n",
       "        }\n",
       "      </script>\n",
       "    </div>\n",
       "  </div>\n",
       "  "
      ],
      "text/plain": [
       "mode                              Hydro  Nuclear    RES  Thermal\n",
       "state             sector                                        \n",
       "Andhra Pradesh    CENTRAL SECTOR  23.58    23.58  23.58    23.58\n",
       "                  PVT SECTOR      23.58    23.58  23.58    23.58\n",
       "                  STATE SECTOR    23.58    23.58  23.58    23.58\n",
       "Arunachal Pradesh CENTRAL SECTOR  57.74    57.74  57.74    57.74\n",
       "                  PVT SECTOR      57.74    57.74  57.74    57.74\n",
       "...                                 ...      ...    ...      ...\n",
       "Uttarakhand       PVT SECTOR      12.25    12.25  12.25    12.25\n",
       "                  STATE SECTOR    12.25    12.25  12.25    12.25\n",
       "West Bengal       CENTRAL SECTOR  31.10    31.10    NaN    31.10\n",
       "                  PVT SECTOR      31.10    31.10  31.10    31.10\n",
       "                  STATE SECTOR    31.10    31.10  31.10    31.10\n",
       "\n",
       "[82 rows x 4 columns]"
      ]
     },
     "execution_count": 55,
     "metadata": {},
     "output_type": "execute_result"
    }
   ],
   "source": [
    "data.columns=[ nm.lower() for nm in data.columns]\n",
    "data_2.columns=[ nm.lower() for nm in data_2.columns]\n",
    "df=pd.merge(data,data_2)\n",
    "#print(df)\n",
    "df.pivot_table(\"at&c losses (%)\",index=[\"state\",\"sector\"], columns=\"mode\",aggfunc='sum')"
   ]
  },
  {
   "cell_type": "code",
   "execution_count": null,
   "metadata": {
    "id": "_KCsO-m015d8"
   },
   "outputs": [],
   "source": []
  }
 ],
 "metadata": {
  "colab": {
   "provenance": []
  },
  "kernelspec": {
   "display_name": "Python 3 (ipykernel)",
   "language": "python",
   "name": "python3"
  },
  "language_info": {
   "codemirror_mode": {
    "name": "ipython",
    "version": 3
   },
   "file_extension": ".py",
   "mimetype": "text/x-python",
   "name": "python",
   "nbconvert_exporter": "python",
   "pygments_lexer": "ipython3",
   "version": "3.9.10"
  }
 },
 "nbformat": 4,
 "nbformat_minor": 1
}
